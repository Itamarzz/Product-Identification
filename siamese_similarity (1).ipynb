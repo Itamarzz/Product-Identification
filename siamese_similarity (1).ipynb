{
  "nbformat": 4,
  "nbformat_minor": 5,
  "metadata": {
    "colab": {
      "name": "siamese_similarity.ipynb",
      "provenance": [],
      "collapsed_sections": []
    },
    "kernelspec": {
      "display_name": "Python 3",
      "language": "python",
      "name": "python3"
    },
    "language_info": {
      "codemirror_mode": {
        "name": "ipython",
        "version": 3
      },
      "file_extension": ".py",
      "mimetype": "text/x-python",
      "name": "python",
      "nbconvert_exporter": "python",
      "pygments_lexer": "ipython3",
      "version": "3.7.10"
    },
    "widgets": {
      "application/vnd.jupyter.widget-state+json": {
        "ce3bf35b44924fcf95224cc7544a2808": {
          "model_module": "@jupyter-widgets/controls",
          "model_name": "HBoxModel",
          "state": {
            "_view_name": "HBoxView",
            "_dom_classes": [],
            "_model_name": "HBoxModel",
            "_view_module": "@jupyter-widgets/controls",
            "_model_module_version": "1.5.0",
            "_view_count": null,
            "_view_module_version": "1.5.0",
            "box_style": "",
            "layout": "IPY_MODEL_21f4e152833d486eb04712baddb94119",
            "_model_module": "@jupyter-widgets/controls",
            "children": [
              "IPY_MODEL_ef81e604f56741659953fa4cae78d720",
              "IPY_MODEL_cf98c70780d14082b5283dbfd6645f88"
            ]
          }
        },
        "21f4e152833d486eb04712baddb94119": {
          "model_module": "@jupyter-widgets/base",
          "model_name": "LayoutModel",
          "state": {
            "_view_name": "LayoutView",
            "grid_template_rows": null,
            "right": null,
            "justify_content": null,
            "_view_module": "@jupyter-widgets/base",
            "overflow": null,
            "_model_module_version": "1.2.0",
            "_view_count": null,
            "flex_flow": null,
            "width": null,
            "min_width": null,
            "border": null,
            "align_items": null,
            "bottom": null,
            "_model_module": "@jupyter-widgets/base",
            "top": null,
            "grid_column": null,
            "overflow_y": null,
            "overflow_x": null,
            "grid_auto_flow": null,
            "grid_area": null,
            "grid_template_columns": null,
            "flex": null,
            "_model_name": "LayoutModel",
            "justify_items": null,
            "grid_row": null,
            "max_height": null,
            "align_content": null,
            "visibility": null,
            "align_self": null,
            "height": null,
            "min_height": null,
            "padding": null,
            "grid_auto_rows": null,
            "grid_gap": null,
            "max_width": null,
            "order": null,
            "_view_module_version": "1.2.0",
            "grid_template_areas": null,
            "object_position": null,
            "object_fit": null,
            "grid_auto_columns": null,
            "margin": null,
            "display": null,
            "left": null
          }
        },
        "ef81e604f56741659953fa4cae78d720": {
          "model_module": "@jupyter-widgets/controls",
          "model_name": "FloatProgressModel",
          "state": {
            "_view_name": "ProgressView",
            "style": "IPY_MODEL_b870823617a4479a9f68fd33210ad50d",
            "_dom_classes": [],
            "description": "100%",
            "_model_name": "FloatProgressModel",
            "bar_style": "success",
            "max": 2000,
            "_view_module": "@jupyter-widgets/controls",
            "_model_module_version": "1.5.0",
            "value": 2000,
            "_view_count": null,
            "_view_module_version": "1.5.0",
            "orientation": "horizontal",
            "min": 0,
            "description_tooltip": null,
            "_model_module": "@jupyter-widgets/controls",
            "layout": "IPY_MODEL_87879ab2c5ff4b52bfbf6c1fb2788fd7"
          }
        },
        "cf98c70780d14082b5283dbfd6645f88": {
          "model_module": "@jupyter-widgets/controls",
          "model_name": "HTMLModel",
          "state": {
            "_view_name": "HTMLView",
            "style": "IPY_MODEL_e86dba185fc54ec6800c8deabe22e126",
            "_dom_classes": [],
            "description": "",
            "_model_name": "HTMLModel",
            "placeholder": "​",
            "_view_module": "@jupyter-widgets/controls",
            "_model_module_version": "1.5.0",
            "value": " 2000/2000 [00:00&lt;00:00, 4447.54it/s]",
            "_view_count": null,
            "_view_module_version": "1.5.0",
            "description_tooltip": null,
            "_model_module": "@jupyter-widgets/controls",
            "layout": "IPY_MODEL_6795557d9bae47e2a6c668464138bf54"
          }
        },
        "b870823617a4479a9f68fd33210ad50d": {
          "model_module": "@jupyter-widgets/controls",
          "model_name": "ProgressStyleModel",
          "state": {
            "_view_name": "StyleView",
            "_model_name": "ProgressStyleModel",
            "description_width": "initial",
            "_view_module": "@jupyter-widgets/base",
            "_model_module_version": "1.5.0",
            "_view_count": null,
            "_view_module_version": "1.2.0",
            "bar_color": null,
            "_model_module": "@jupyter-widgets/controls"
          }
        },
        "87879ab2c5ff4b52bfbf6c1fb2788fd7": {
          "model_module": "@jupyter-widgets/base",
          "model_name": "LayoutModel",
          "state": {
            "_view_name": "LayoutView",
            "grid_template_rows": null,
            "right": null,
            "justify_content": null,
            "_view_module": "@jupyter-widgets/base",
            "overflow": null,
            "_model_module_version": "1.2.0",
            "_view_count": null,
            "flex_flow": null,
            "width": null,
            "min_width": null,
            "border": null,
            "align_items": null,
            "bottom": null,
            "_model_module": "@jupyter-widgets/base",
            "top": null,
            "grid_column": null,
            "overflow_y": null,
            "overflow_x": null,
            "grid_auto_flow": null,
            "grid_area": null,
            "grid_template_columns": null,
            "flex": null,
            "_model_name": "LayoutModel",
            "justify_items": null,
            "grid_row": null,
            "max_height": null,
            "align_content": null,
            "visibility": null,
            "align_self": null,
            "height": null,
            "min_height": null,
            "padding": null,
            "grid_auto_rows": null,
            "grid_gap": null,
            "max_width": null,
            "order": null,
            "_view_module_version": "1.2.0",
            "grid_template_areas": null,
            "object_position": null,
            "object_fit": null,
            "grid_auto_columns": null,
            "margin": null,
            "display": null,
            "left": null
          }
        },
        "e86dba185fc54ec6800c8deabe22e126": {
          "model_module": "@jupyter-widgets/controls",
          "model_name": "DescriptionStyleModel",
          "state": {
            "_view_name": "StyleView",
            "_model_name": "DescriptionStyleModel",
            "description_width": "",
            "_view_module": "@jupyter-widgets/base",
            "_model_module_version": "1.5.0",
            "_view_count": null,
            "_view_module_version": "1.2.0",
            "_model_module": "@jupyter-widgets/controls"
          }
        },
        "6795557d9bae47e2a6c668464138bf54": {
          "model_module": "@jupyter-widgets/base",
          "model_name": "LayoutModel",
          "state": {
            "_view_name": "LayoutView",
            "grid_template_rows": null,
            "right": null,
            "justify_content": null,
            "_view_module": "@jupyter-widgets/base",
            "overflow": null,
            "_model_module_version": "1.2.0",
            "_view_count": null,
            "flex_flow": null,
            "width": null,
            "min_width": null,
            "border": null,
            "align_items": null,
            "bottom": null,
            "_model_module": "@jupyter-widgets/base",
            "top": null,
            "grid_column": null,
            "overflow_y": null,
            "overflow_x": null,
            "grid_auto_flow": null,
            "grid_area": null,
            "grid_template_columns": null,
            "flex": null,
            "_model_name": "LayoutModel",
            "justify_items": null,
            "grid_row": null,
            "max_height": null,
            "align_content": null,
            "visibility": null,
            "align_self": null,
            "height": null,
            "min_height": null,
            "padding": null,
            "grid_auto_rows": null,
            "grid_gap": null,
            "max_width": null,
            "order": null,
            "_view_module_version": "1.2.0",
            "grid_template_areas": null,
            "object_position": null,
            "object_fit": null,
            "grid_auto_columns": null,
            "margin": null,
            "display": null,
            "left": null
          }
        },
        "2cfdf4ab231746739e6cde6d9940097b": {
          "model_module": "@jupyter-widgets/controls",
          "model_name": "HBoxModel",
          "state": {
            "_view_name": "HBoxView",
            "_dom_classes": [],
            "_model_name": "HBoxModel",
            "_view_module": "@jupyter-widgets/controls",
            "_model_module_version": "1.5.0",
            "_view_count": null,
            "_view_module_version": "1.5.0",
            "box_style": "",
            "layout": "IPY_MODEL_cad4232ec38448ba8ea55e9541dc9bb8",
            "_model_module": "@jupyter-widgets/controls",
            "children": [
              "IPY_MODEL_49fdafa2d1484c94a419eef019e1a2fb",
              "IPY_MODEL_4da3c2169b33441b8b803114f9f1bc3c"
            ]
          }
        },
        "cad4232ec38448ba8ea55e9541dc9bb8": {
          "model_module": "@jupyter-widgets/base",
          "model_name": "LayoutModel",
          "state": {
            "_view_name": "LayoutView",
            "grid_template_rows": null,
            "right": null,
            "justify_content": null,
            "_view_module": "@jupyter-widgets/base",
            "overflow": null,
            "_model_module_version": "1.2.0",
            "_view_count": null,
            "flex_flow": null,
            "width": null,
            "min_width": null,
            "border": null,
            "align_items": null,
            "bottom": null,
            "_model_module": "@jupyter-widgets/base",
            "top": null,
            "grid_column": null,
            "overflow_y": null,
            "overflow_x": null,
            "grid_auto_flow": null,
            "grid_area": null,
            "grid_template_columns": null,
            "flex": null,
            "_model_name": "LayoutModel",
            "justify_items": null,
            "grid_row": null,
            "max_height": null,
            "align_content": null,
            "visibility": null,
            "align_self": null,
            "height": null,
            "min_height": null,
            "padding": null,
            "grid_auto_rows": null,
            "grid_gap": null,
            "max_width": null,
            "order": null,
            "_view_module_version": "1.2.0",
            "grid_template_areas": null,
            "object_position": null,
            "object_fit": null,
            "grid_auto_columns": null,
            "margin": null,
            "display": null,
            "left": null
          }
        },
        "49fdafa2d1484c94a419eef019e1a2fb": {
          "model_module": "@jupyter-widgets/controls",
          "model_name": "FloatProgressModel",
          "state": {
            "_view_name": "ProgressView",
            "style": "IPY_MODEL_69c9e71ca2174daabfbfe2365d2150d5",
            "_dom_classes": [],
            "description": "100%",
            "_model_name": "FloatProgressModel",
            "bar_style": "success",
            "max": 2000,
            "_view_module": "@jupyter-widgets/controls",
            "_model_module_version": "1.5.0",
            "value": 2000,
            "_view_count": null,
            "_view_module_version": "1.5.0",
            "orientation": "horizontal",
            "min": 0,
            "description_tooltip": null,
            "_model_module": "@jupyter-widgets/controls",
            "layout": "IPY_MODEL_83c067e25d8b47f78c6ab2026423d255"
          }
        },
        "4da3c2169b33441b8b803114f9f1bc3c": {
          "model_module": "@jupyter-widgets/controls",
          "model_name": "HTMLModel",
          "state": {
            "_view_name": "HTMLView",
            "style": "IPY_MODEL_5b1787aceb724909bf9e0a5edf16af26",
            "_dom_classes": [],
            "description": "",
            "_model_name": "HTMLModel",
            "placeholder": "​",
            "_view_module": "@jupyter-widgets/controls",
            "_model_module_version": "1.5.0",
            "value": " 2000/2000 [00:00&lt;00:00, 7999.95it/s]",
            "_view_count": null,
            "_view_module_version": "1.5.0",
            "description_tooltip": null,
            "_model_module": "@jupyter-widgets/controls",
            "layout": "IPY_MODEL_40ae2c99e92c41dbb97f24442192da50"
          }
        },
        "69c9e71ca2174daabfbfe2365d2150d5": {
          "model_module": "@jupyter-widgets/controls",
          "model_name": "ProgressStyleModel",
          "state": {
            "_view_name": "StyleView",
            "_model_name": "ProgressStyleModel",
            "description_width": "initial",
            "_view_module": "@jupyter-widgets/base",
            "_model_module_version": "1.5.0",
            "_view_count": null,
            "_view_module_version": "1.2.0",
            "bar_color": null,
            "_model_module": "@jupyter-widgets/controls"
          }
        },
        "83c067e25d8b47f78c6ab2026423d255": {
          "model_module": "@jupyter-widgets/base",
          "model_name": "LayoutModel",
          "state": {
            "_view_name": "LayoutView",
            "grid_template_rows": null,
            "right": null,
            "justify_content": null,
            "_view_module": "@jupyter-widgets/base",
            "overflow": null,
            "_model_module_version": "1.2.0",
            "_view_count": null,
            "flex_flow": null,
            "width": null,
            "min_width": null,
            "border": null,
            "align_items": null,
            "bottom": null,
            "_model_module": "@jupyter-widgets/base",
            "top": null,
            "grid_column": null,
            "overflow_y": null,
            "overflow_x": null,
            "grid_auto_flow": null,
            "grid_area": null,
            "grid_template_columns": null,
            "flex": null,
            "_model_name": "LayoutModel",
            "justify_items": null,
            "grid_row": null,
            "max_height": null,
            "align_content": null,
            "visibility": null,
            "align_self": null,
            "height": null,
            "min_height": null,
            "padding": null,
            "grid_auto_rows": null,
            "grid_gap": null,
            "max_width": null,
            "order": null,
            "_view_module_version": "1.2.0",
            "grid_template_areas": null,
            "object_position": null,
            "object_fit": null,
            "grid_auto_columns": null,
            "margin": null,
            "display": null,
            "left": null
          }
        },
        "5b1787aceb724909bf9e0a5edf16af26": {
          "model_module": "@jupyter-widgets/controls",
          "model_name": "DescriptionStyleModel",
          "state": {
            "_view_name": "StyleView",
            "_model_name": "DescriptionStyleModel",
            "description_width": "",
            "_view_module": "@jupyter-widgets/base",
            "_model_module_version": "1.5.0",
            "_view_count": null,
            "_view_module_version": "1.2.0",
            "_model_module": "@jupyter-widgets/controls"
          }
        },
        "40ae2c99e92c41dbb97f24442192da50": {
          "model_module": "@jupyter-widgets/base",
          "model_name": "LayoutModel",
          "state": {
            "_view_name": "LayoutView",
            "grid_template_rows": null,
            "right": null,
            "justify_content": null,
            "_view_module": "@jupyter-widgets/base",
            "overflow": null,
            "_model_module_version": "1.2.0",
            "_view_count": null,
            "flex_flow": null,
            "width": null,
            "min_width": null,
            "border": null,
            "align_items": null,
            "bottom": null,
            "_model_module": "@jupyter-widgets/base",
            "top": null,
            "grid_column": null,
            "overflow_y": null,
            "overflow_x": null,
            "grid_auto_flow": null,
            "grid_area": null,
            "grid_template_columns": null,
            "flex": null,
            "_model_name": "LayoutModel",
            "justify_items": null,
            "grid_row": null,
            "max_height": null,
            "align_content": null,
            "visibility": null,
            "align_self": null,
            "height": null,
            "min_height": null,
            "padding": null,
            "grid_auto_rows": null,
            "grid_gap": null,
            "max_width": null,
            "order": null,
            "_view_module_version": "1.2.0",
            "grid_template_areas": null,
            "object_position": null,
            "object_fit": null,
            "grid_auto_columns": null,
            "margin": null,
            "display": null,
            "left": null
          }
        }
      }
    }
  },
  "cells": [
    {
      "cell_type": "markdown",
      "metadata": {
        "id": "I2Rv_28VSI8E"
      },
      "source": [
        "# Siamese Similarity\n",
        "\n",
        "**Authors:** Itamar Zaltsman<br>\n",
        "**Date created:** 2021/06/12<br>\n",
        "**Description:** Detecting same objects by embedding vectors and evaluating model performance."
      ],
      "id": "I2Rv_28VSI8E"
    },
    {
      "cell_type": "markdown",
      "metadata": {
        "id": "22182418"
      },
      "source": [
        "## Introduction\n",
        "We have two matrices to represent products: \n",
        "- image embedding matrix: each row is an embedding vector of item image.\n",
        "- text embedding matrix: each row is an embedding vector of item text.\n",
        "\n",
        "For each product we would like to find all matching products that are in the dataset under the assumption:\n",
        "- Each product has a least one match\n",
        "- there are no more than 50 matches by product"
      ],
      "id": "22182418"
    },
    {
      "cell_type": "markdown",
      "metadata": {
        "id": "6It6azNrdGES"
      },
      "source": [
        "## Setup"
      ],
      "id": "6It6azNrdGES"
    },
    {
      "cell_type": "code",
      "metadata": {
        "id": "445625f6"
      },
      "source": [
        "import pandas as pd\n",
        "import numpy as np\n",
        "from numpy import genfromtxt\n",
        "import seaborn as sns\n",
        "import matplotlib.pyplot as plt\n",
        "import cv2\n",
        "from tqdm.notebook import tqdm\n",
        "from sklearn.neighbors import NearestNeighbors"
      ],
      "id": "445625f6",
      "execution_count": 1,
      "outputs": []
    },
    {
      "cell_type": "code",
      "metadata": {
        "colab": {
          "base_uri": "https://localhost:8080/"
        },
        "id": "z9HpsxXiMwAU",
        "outputId": "3f5e6c34-c3b3-41b9-f0a9-160f39cf9ffe"
      },
      "source": [
        "from google.colab import drive\n",
        "drive.mount('/content/drive')"
      ],
      "id": "z9HpsxXiMwAU",
      "execution_count": 2,
      "outputs": [
        {
          "output_type": "stream",
          "text": [
            "Drive already mounted at /content/drive; to attempt to forcibly remount, call drive.mount(\"/content/drive\", force_remount=True).\n"
          ],
          "name": "stdout"
        }
      ]
    },
    {
      "cell_type": "markdown",
      "metadata": {
        "id": "YrLkHO2xdXsk"
      },
      "source": [
        "## Load embedding matrices"
      ],
      "id": "YrLkHO2xdXsk"
    },
    {
      "cell_type": "code",
      "metadata": {
        "id": "r5MeS1a3MskS"
      },
      "source": [
        "image_embeddings_dir = '/content/drive/MyDrive/ITC/final_project/Shopee/data/train_img_emb.csv'\n",
        "X_emb_dir = '/content/drive/MyDrive/ITC/final_project/Shopee/data/X_emb_data.csv'\n",
        "\n",
        "img_emb = genfromtxt(image_embeddings_dir, delimiter=',')\n",
        "X = pd.read_csv(X_emb_dir)"
      ],
      "id": "r5MeS1a3MskS",
      "execution_count": 3,
      "outputs": []
    },
    {
      "cell_type": "code",
      "metadata": {
        "colab": {
          "base_uri": "https://localhost:8080/"
        },
        "id": "EY3BHCqNSzt3",
        "outputId": "34934f8d-ffad-4c01-fbe7-aeac302af131"
      },
      "source": [
        "X.shape, img_emb.shape"
      ],
      "id": "EY3BHCqNSzt3",
      "execution_count": 4,
      "outputs": [
        {
          "output_type": "execute_result",
          "data": {
            "text/plain": [
              "((2000, 7), (2000, 1024))"
            ]
          },
          "metadata": {
            "tags": []
          },
          "execution_count": 4
        }
      ]
    },
    {
      "cell_type": "markdown",
      "metadata": {
        "id": "8G6H3SNWdyHq"
      },
      "source": [
        "## Prepare target labels\n",
        "\n",
        "In the original data each product have a group label. Our model output is all matches by item. The code below creates true matches in order to evaluate the model performance."
      ],
      "id": "8G6H3SNWdyHq"
    },
    {
      "cell_type": "code",
      "metadata": {
        "id": "245ac173"
      },
      "source": [
        "def get_matches(y, grouped_data):\n",
        "    \"\"\" returns list of all matches by item\n",
        "    \"\"\"\n",
        "    \n",
        "    matches = []\n",
        "    for i in range(len(y)):\n",
        "        g = y.iloc[i]\n",
        "        labels = list(grouped_data.get_group(g).posting_id)\n",
        "        matches.append(labels)\n",
        "    \n",
        "    return matches"
      ],
      "id": "245ac173",
      "execution_count": 5,
      "outputs": []
    },
    {
      "cell_type": "code",
      "metadata": {
        "id": "6ac90fe5"
      },
      "source": [
        "# preparing true matches (y_true)\n",
        "\n",
        "grouped_data = X.groupby('label_group')\n",
        "matches_true = get_matches(X['label_group'], grouped_data)\n"
      ],
      "id": "6ac90fe5",
      "execution_count": 6,
      "outputs": []
    },
    {
      "cell_type": "markdown",
      "metadata": {
        "id": "EDKq48eJe1fM"
      },
      "source": [
        "## Evaluation\n",
        "\n",
        "The project evaluation metric is mean f1-score. The mean is calculated in a sample-wise fashion, meaning that an F1 score is calculated for every predicted row, then averaged."
      ],
      "id": "EDKq48eJe1fM"
    },
    {
      "cell_type": "code",
      "metadata": {
        "id": "9270e3b0"
      },
      "source": [
        "def get_f1_score(pred, y_true):\n",
        "    \"\"\"returns mean F1 score. The mean is calculated in a sample-wise fashion, \n",
        "        meaning that an F1 score is calculated for every predicted row, then averaged.\n",
        "    \"\"\"\n",
        "    \n",
        "    true_p = []\n",
        "    false_n = []\n",
        "    false_p = []\n",
        "    \n",
        "    for i in tqdm(range(len(pred))):\n",
        "        \n",
        "        p = pred[i]\n",
        "        p_true = y_true[i]\n",
        "        \n",
        "        tp = len(set(p) & set(p_true)) - 1\n",
        "        fp = len(np.setdiff1d(p, p_true))\n",
        "        fn = len(np.setdiff1d(p_true, p))\n",
        "        \n",
        "        false_p.append(fp)\n",
        "        false_n.append(fn)\n",
        "        true_p.append(tp)\n",
        "\n",
        "    df = pd.DataFrame({\"tp\":true_p, \"fp\":false_p, \"fn\":false_n})\n",
        "    df[\"f1\"] = df.tp / (df.tp + 0.5*(df.fp + df.fn))\n",
        "    df[\"precision\"] = df.tp / (df.tp + df.fp)\n",
        "    df[\"recall\"] = df.tp / (df.tp + df.fn)\n",
        "\n",
        "    return df\n",
        "    "
      ],
      "id": "9270e3b0",
      "execution_count": 7,
      "outputs": []
    },
    {
      "cell_type": "markdown",
      "metadata": {
        "id": "SCb4PO_Xf-cy"
      },
      "source": [
        "## Predict Matches\n",
        "\n",
        "Goal: for each item in the dataset find all matches.\n",
        "\n",
        "Approch:\n",
        "- using KNN with 51 neighbours to find the nearest 50 items.\n",
        "- each neighbour that falls within the treshold is a a match\n",
        "\n",
        "We know that each item has at least one match, so in case of no matches: set the nearest neighbour as a match if it falls below an upper threshold.<br>\n",
        "\n",
        "_Threshold:_ the value of threshold is the value that maximized the f1-score over the validation data.\n",
        "\n",
        "_Upper threshold:_ is the mean distance of the first element + 2 times the standard deviation."
      ],
      "id": "SCb4PO_Xf-cy"
    },
    {
      "cell_type": "code",
      "metadata": {
        "id": "87dd0220"
      },
      "source": [
        "k_neighbors = 51\n",
        "\n",
        "nbrs = NearestNeighbors(n_neighbors=k_neighbors, algorithm='ball_tree').fit(img_emb)\n",
        "\n",
        "distances, indices = nbrs.kneighbors(img_emb)"
      ],
      "id": "87dd0220",
      "execution_count": 8,
      "outputs": []
    },
    {
      "cell_type": "code",
      "metadata": {
        "colab": {
          "base_uri": "https://localhost:8080/",
          "height": 67,
          "referenced_widgets": [
            "ce3bf35b44924fcf95224cc7544a2808",
            "21f4e152833d486eb04712baddb94119",
            "ef81e604f56741659953fa4cae78d720",
            "cf98c70780d14082b5283dbfd6645f88",
            "b870823617a4479a9f68fd33210ad50d",
            "87879ab2c5ff4b52bfbf6c1fb2788fd7",
            "e86dba185fc54ec6800c8deabe22e126",
            "6795557d9bae47e2a6c668464138bf54"
          ]
        },
        "id": "2c0c8bb4",
        "outputId": "6f2c1f31-0b7b-4dca-c46a-14f0fc9fe981"
      },
      "source": [
        "thresh = 0.95\n",
        "upper_thresh = 3\n",
        "posting_ids = X['posting_id'].values\n",
        "\n",
        "pred = []\n",
        "\n",
        "for i in tqdm(range(len(indices))):\n",
        "    \n",
        "    tresh_filt = distances[i] < thresh\n",
        "    match_indices = indices[i, tresh_filt]\n",
        "    pred.append(posting_ids[match_indices].tolist())\n",
        "    \n",
        "    if (tresh_filt.sum()) == 1 and (distances[i, 1] < upper_thresh):\n",
        "        pred[i].append(posting_ids[indices[i, 1]])"
      ],
      "id": "2c0c8bb4",
      "execution_count": 9,
      "outputs": [
        {
          "output_type": "display_data",
          "data": {
            "application/vnd.jupyter.widget-view+json": {
              "model_id": "ce3bf35b44924fcf95224cc7544a2808",
              "version_minor": 0,
              "version_major": 2
            },
            "text/plain": [
              "HBox(children=(FloatProgress(value=0.0, max=2000.0), HTML(value='')))"
            ]
          },
          "metadata": {
            "tags": []
          }
        },
        {
          "output_type": "stream",
          "text": [
            "\n"
          ],
          "name": "stdout"
        }
      ]
    },
    {
      "cell_type": "markdown",
      "metadata": {
        "id": "QE8HFilwjbg6"
      },
      "source": [
        "## Results"
      ],
      "id": "QE8HFilwjbg6"
    },
    {
      "cell_type": "code",
      "metadata": {
        "colab": {
          "base_uri": "https://localhost:8080/",
          "height": 346,
          "referenced_widgets": [
            "2cfdf4ab231746739e6cde6d9940097b",
            "cad4232ec38448ba8ea55e9541dc9bb8",
            "49fdafa2d1484c94a419eef019e1a2fb",
            "4da3c2169b33441b8b803114f9f1bc3c",
            "69c9e71ca2174daabfbfe2365d2150d5",
            "83c067e25d8b47f78c6ab2026423d255",
            "5b1787aceb724909bf9e0a5edf16af26",
            "40ae2c99e92c41dbb97f24442192da50"
          ]
        },
        "id": "6c775b90",
        "outputId": "31c59ac4-8ecc-4b17-db5d-bcf3e242ec59"
      },
      "source": [
        "# Presenting results\n",
        "\n",
        "df = get_f1_score(pred, matches_true)\n",
        "df['1st distance'] = distances[:, 1]\n",
        "df['2nd distance'] = distances[:, 2]\n",
        "df['3rd distance'] = distances[:, 3]\n",
        "df['4th distance'] = distances[:, 4]\n",
        "df.describe().round(2)"
      ],
      "id": "6c775b90",
      "execution_count": 10,
      "outputs": [
        {
          "output_type": "display_data",
          "data": {
            "application/vnd.jupyter.widget-view+json": {
              "model_id": "2cfdf4ab231746739e6cde6d9940097b",
              "version_minor": 0,
              "version_major": 2
            },
            "text/plain": [
              "HBox(children=(FloatProgress(value=0.0, max=2000.0), HTML(value='')))"
            ]
          },
          "metadata": {
            "tags": []
          }
        },
        {
          "output_type": "stream",
          "text": [
            "\n"
          ],
          "name": "stdout"
        },
        {
          "output_type": "execute_result",
          "data": {
            "text/html": [
              "<div>\n",
              "<style scoped>\n",
              "    .dataframe tbody tr th:only-of-type {\n",
              "        vertical-align: middle;\n",
              "    }\n",
              "\n",
              "    .dataframe tbody tr th {\n",
              "        vertical-align: top;\n",
              "    }\n",
              "\n",
              "    .dataframe thead th {\n",
              "        text-align: right;\n",
              "    }\n",
              "</style>\n",
              "<table border=\"1\" class=\"dataframe\">\n",
              "  <thead>\n",
              "    <tr style=\"text-align: right;\">\n",
              "      <th></th>\n",
              "      <th>tp</th>\n",
              "      <th>fp</th>\n",
              "      <th>fn</th>\n",
              "      <th>f1</th>\n",
              "      <th>precision</th>\n",
              "      <th>recall</th>\n",
              "      <th>1st distance</th>\n",
              "      <th>2nd distance</th>\n",
              "      <th>3rd distance</th>\n",
              "      <th>4th distance</th>\n",
              "    </tr>\n",
              "  </thead>\n",
              "  <tbody>\n",
              "    <tr>\n",
              "      <th>count</th>\n",
              "      <td>2000.00</td>\n",
              "      <td>2000.00</td>\n",
              "      <td>2000.00</td>\n",
              "      <td>2000.00</td>\n",
              "      <td>2000.00</td>\n",
              "      <td>2000.00</td>\n",
              "      <td>2000.00</td>\n",
              "      <td>2000.00</td>\n",
              "      <td>2000.00</td>\n",
              "      <td>2000.00</td>\n",
              "    </tr>\n",
              "    <tr>\n",
              "      <th>mean</th>\n",
              "      <td>1.55</td>\n",
              "      <td>0.56</td>\n",
              "      <td>1.97</td>\n",
              "      <td>0.50</td>\n",
              "      <td>0.62</td>\n",
              "      <td>0.47</td>\n",
              "      <td>0.70</td>\n",
              "      <td>0.91</td>\n",
              "      <td>0.99</td>\n",
              "      <td>1.04</td>\n",
              "    </tr>\n",
              "    <tr>\n",
              "      <th>std</th>\n",
              "      <td>2.23</td>\n",
              "      <td>1.35</td>\n",
              "      <td>3.11</td>\n",
              "      <td>0.43</td>\n",
              "      <td>0.47</td>\n",
              "      <td>0.43</td>\n",
              "      <td>0.44</td>\n",
              "      <td>0.37</td>\n",
              "      <td>0.33</td>\n",
              "      <td>0.29</td>\n",
              "    </tr>\n",
              "    <tr>\n",
              "      <th>min</th>\n",
              "      <td>0.00</td>\n",
              "      <td>0.00</td>\n",
              "      <td>0.00</td>\n",
              "      <td>0.00</td>\n",
              "      <td>0.00</td>\n",
              "      <td>0.00</td>\n",
              "      <td>0.00</td>\n",
              "      <td>0.00</td>\n",
              "      <td>0.00</td>\n",
              "      <td>0.00</td>\n",
              "    </tr>\n",
              "    <tr>\n",
              "      <th>25%</th>\n",
              "      <td>0.00</td>\n",
              "      <td>0.00</td>\n",
              "      <td>0.00</td>\n",
              "      <td>0.00</td>\n",
              "      <td>0.00</td>\n",
              "      <td>0.00</td>\n",
              "      <td>0.23</td>\n",
              "      <td>0.85</td>\n",
              "      <td>0.99</td>\n",
              "      <td>1.05</td>\n",
              "    </tr>\n",
              "    <tr>\n",
              "      <th>50%</th>\n",
              "      <td>1.00</td>\n",
              "      <td>0.00</td>\n",
              "      <td>1.00</td>\n",
              "      <td>0.57</td>\n",
              "      <td>1.00</td>\n",
              "      <td>0.50</td>\n",
              "      <td>0.87</td>\n",
              "      <td>1.09</td>\n",
              "      <td>1.12</td>\n",
              "      <td>1.14</td>\n",
              "    </tr>\n",
              "    <tr>\n",
              "      <th>75%</th>\n",
              "      <td>2.00</td>\n",
              "      <td>1.00</td>\n",
              "      <td>2.00</td>\n",
              "      <td>1.00</td>\n",
              "      <td>1.00</td>\n",
              "      <td>1.00</td>\n",
              "      <td>1.10</td>\n",
              "      <td>1.16</td>\n",
              "      <td>1.17</td>\n",
              "      <td>1.18</td>\n",
              "    </tr>\n",
              "    <tr>\n",
              "      <th>max</th>\n",
              "      <td>13.00</td>\n",
              "      <td>18.00</td>\n",
              "      <td>21.00</td>\n",
              "      <td>1.00</td>\n",
              "      <td>1.00</td>\n",
              "      <td>1.00</td>\n",
              "      <td>1.27</td>\n",
              "      <td>1.27</td>\n",
              "      <td>1.28</td>\n",
              "      <td>1.28</td>\n",
              "    </tr>\n",
              "  </tbody>\n",
              "</table>\n",
              "</div>"
            ],
            "text/plain": [
              "            tp       fp       fn  ...  2nd distance  3rd distance  4th distance\n",
              "count  2000.00  2000.00  2000.00  ...       2000.00       2000.00       2000.00\n",
              "mean      1.55     0.56     1.97  ...          0.91          0.99          1.04\n",
              "std       2.23     1.35     3.11  ...          0.37          0.33          0.29\n",
              "min       0.00     0.00     0.00  ...          0.00          0.00          0.00\n",
              "25%       0.00     0.00     0.00  ...          0.85          0.99          1.05\n",
              "50%       1.00     0.00     1.00  ...          1.09          1.12          1.14\n",
              "75%       2.00     1.00     2.00  ...          1.16          1.17          1.18\n",
              "max      13.00    18.00    21.00  ...          1.27          1.28          1.28\n",
              "\n",
              "[8 rows x 10 columns]"
            ]
          },
          "metadata": {
            "tags": []
          },
          "execution_count": 10
        }
      ]
    },
    {
      "cell_type": "code",
      "metadata": {
        "colab": {
          "base_uri": "https://localhost:8080/",
          "height": 295
        },
        "id": "9fjDIkdc3Lc9",
        "outputId": "e4ede1e2-e3ef-4b8d-cdc6-2de79f327d7e"
      },
      "source": [
        "sns.lineplot(x=range(1,15), y=distances[:, 1:15].mean(axis=0))\n",
        "plt.title(\"mean distance by neighbour\")\n",
        "plt.xlabel(\"neighbour rank\")\n",
        "plt.ylabel(\"eucledean distance\");"
      ],
      "id": "9fjDIkdc3Lc9",
      "execution_count": 11,
      "outputs": [
        {
          "output_type": "display_data",
          "data": {
            "image/png": "[encoded data removed]",
            "text/plain": [
              "<Figure size 432x288 with 1 Axes>"
            ]
          },
          "metadata": {
            "tags": [],
            "needs_background": "light"
          }
        }
      ]
    },
    {
      "cell_type": "code",
      "metadata": {
        "colab": {
          "base_uri": "https://localhost:8080/"
        },
        "id": "j9bGDWRXzpy3",
        "outputId": "ae1917de-1053-40b4-f931-3236bb1583bc"
      },
      "source": [
        "# upper threshold estimation\n",
        "distances[:,1].std() * 2 + distances[:,1].mean()"
      ],
      "id": "j9bGDWRXzpy3",
      "execution_count": 12,
      "outputs": [
        {
          "output_type": "execute_result",
          "data": {
            "text/plain": [
              "1.5771587434044303"
            ]
          },
          "metadata": {
            "tags": []
          },
          "execution_count": 12
        }
      ]
    },
    {
      "cell_type": "markdown",
      "metadata": {
        "id": "A2vEG_yKjulY"
      },
      "source": [
        "## Prediction code for deployment\n",
        "to be used for single item prediction (get matches)"
      ],
      "id": "A2vEG_yKjulY"
    },
    {
      "cell_type": "code",
      "metadata": {
        "id": "vWO8gMyz7Mrt"
      },
      "source": [
        "# one sample prediction (used for deployment)\n",
        "\n",
        "from sklearn.neighbors import NearestNeighbors\n",
        "import numpy as np\n",
        "from numpy import genfromtxt\n",
        "\n",
        "path_to_dir = '/content/train_images/'\n",
        "file_path = 'vgg2.csv'\n",
        "image_embeddings_dir = '/content/drive/MyDrive/ITC/final_project/Shopee/data/siamese_image_embedding' + file_path\n",
        "X_emb_dir = '/content/drive/MyDrive/ITC/final_project/Shopee/data/siamese_data' + file_path\n",
        "\n",
        "img_emb = genfromtxt(image_embeddings_dir, delimiter=',')\n",
        "X = pd.read_csv(X_emb_dir)\n",
        "\n",
        "\n",
        "posting_ids = X['posting_id'].values\n",
        "thresh = 0.2\n",
        "k_neighbors = 51\n",
        "\n",
        "X.set_index('posting_id', inplace=True)\n",
        "\n",
        "nbrs = NearestNeighbors(n_neighbors=k_neighbors, algorithm='ball_tree').fit(img_emb)\n",
        "distances, indices = nbrs.kneighbors(img_emb)\n",
        "\n",
        "def predict_matches(input_posting_id, distances, indices, X):\n",
        "  \"\"\" Returns matches for given posting id\n",
        "  \"\"\"\n",
        "\n",
        "  input_idx = np.where(posting_ids==input_posting_id)[0][0]\n",
        "  tresh_filt = distances[input_idx] < thresh\n",
        "  match_indices = indices[input_idx, tresh_filt]\n",
        "  matches_posting_ids = (posting_ids[match_indices].tolist())\n",
        "\n",
        "  if tresh_filt.sum() == 1:\n",
        "      matches_posting_ids.append(posting_ids[indices[i, 1]])\n",
        "\n",
        "  matches_posting_ids.remove(input_posting_id)\n",
        "\n",
        "  return X.loc[matches_posting_ids, :]"
      ],
      "id": "vWO8gMyz7Mrt",
      "execution_count": null,
      "outputs": []
    },
    {
      "cell_type": "code",
      "metadata": {
        "id": "IrUdPSRP2nyT"
      },
      "source": [
        "# test\n",
        "input_posting_id = \t'train_119714892'\n",
        "\n",
        "get_matches(input_posting_id, distances, indices, X)"
      ],
      "id": "IrUdPSRP2nyT",
      "execution_count": null,
      "outputs": []
    },
    {
      "cell_type": "markdown",
      "metadata": {
        "id": "Md9wAqBtkgZQ"
      },
      "source": [
        "## Summary\n",
        "Using VGG16 as a base model with one layer of embedding and 10 epochs training we achieved f1-score of 0.51.<br>\n",
        "ResNet50 based model gave f1-score of 0.4. <br>"
      ],
      "id": "Md9wAqBtkgZQ"
    }
  ]
}