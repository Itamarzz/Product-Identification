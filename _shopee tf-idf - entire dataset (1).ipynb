{
 "cells": [
  {
   "cell_type": "code",
   "execution_count": 1,
   "metadata": {
    "ExecuteTime": {
     "end_time": "2021-06-16T08:21:35.585341Z",
     "start_time": "2021-06-16T08:21:31.959041Z"
    }
   },
   "outputs": [],
   "source": [
    "import numpy as np\n",
    "from sklearn.feature_extraction.text import TfidfVectorizer\n",
    "import pandas as pd\n",
    "import unidecode\n",
    "import codecs\n",
    "from sklearn.feature_extraction.text import CountVectorizer\n",
    "from sklearn.metrics.pairwise import cosine_similarity\n"
   ]
  },
  {
   "cell_type": "code",
   "execution_count": 2,
   "metadata": {
    "ExecuteTime": {
     "end_time": "2021-06-16T08:21:35.931756Z",
     "start_time": "2021-06-16T08:21:35.605551Z"
    }
   },
   "outputs": [
    {
     "data": {
      "text/html": [
       "<div>\n",
       "<style scoped>\n",
       "    .dataframe tbody tr th:only-of-type {\n",
       "        vertical-align: middle;\n",
       "    }\n",
       "\n",
       "    .dataframe tbody tr th {\n",
       "        vertical-align: top;\n",
       "    }\n",
       "\n",
       "    .dataframe thead th {\n",
       "        text-align: right;\n",
       "    }\n",
       "</style>\n",
       "<table border=\"1\" class=\"dataframe\">\n",
       "  <thead>\n",
       "    <tr style=\"text-align: right;\">\n",
       "      <th></th>\n",
       "      <th>posting_id</th>\n",
       "      <th>image</th>\n",
       "      <th>image_phash</th>\n",
       "      <th>title</th>\n",
       "      <th>label_group</th>\n",
       "    </tr>\n",
       "  </thead>\n",
       "  <tbody>\n",
       "    <tr>\n",
       "      <th>0</th>\n",
       "      <td>train_129225211</td>\n",
       "      <td>0000a68812bc7e98c42888dfb1c07da0.jpg</td>\n",
       "      <td>94974f937d4c2433</td>\n",
       "      <td>Paper Bag Victoria Secret</td>\n",
       "      <td>249114794</td>\n",
       "    </tr>\n",
       "    <tr>\n",
       "      <th>1</th>\n",
       "      <td>train_3386243561</td>\n",
       "      <td>00039780dfc94d01db8676fe789ecd05.jpg</td>\n",
       "      <td>af3f9460c2838f0f</td>\n",
       "      <td>Double Tape 3M VHB 12 mm x 4,5 m ORIGINAL / DO...</td>\n",
       "      <td>2937985045</td>\n",
       "    </tr>\n",
       "    <tr>\n",
       "      <th>2</th>\n",
       "      <td>train_2288590299</td>\n",
       "      <td>000a190fdd715a2a36faed16e2c65df7.jpg</td>\n",
       "      <td>b94cb00ed3e50f78</td>\n",
       "      <td>Maling TTS Canned Pork Luncheon Meat 397 gr</td>\n",
       "      <td>2395904891</td>\n",
       "    </tr>\n",
       "    <tr>\n",
       "      <th>3</th>\n",
       "      <td>train_2406599165</td>\n",
       "      <td>00117e4fc239b1b641ff08340b429633.jpg</td>\n",
       "      <td>8514fc58eafea283</td>\n",
       "      <td>Daster Batik Lengan pendek - Motif Acak / Camp...</td>\n",
       "      <td>4093212188</td>\n",
       "    </tr>\n",
       "    <tr>\n",
       "      <th>4</th>\n",
       "      <td>train_3369186413</td>\n",
       "      <td>00136d1cf4edede0203f32f05f660588.jpg</td>\n",
       "      <td>a6f319f924ad708c</td>\n",
       "      <td>Nescafe \\xc3\\x89clair Latte 220ml</td>\n",
       "      <td>3648931069</td>\n",
       "    </tr>\n",
       "  </tbody>\n",
       "</table>\n",
       "</div>"
      ],
      "text/plain": [
       "         posting_id                                 image       image_phash  \\\n",
       "0   train_129225211  0000a68812bc7e98c42888dfb1c07da0.jpg  94974f937d4c2433   \n",
       "1  train_3386243561  00039780dfc94d01db8676fe789ecd05.jpg  af3f9460c2838f0f   \n",
       "2  train_2288590299  000a190fdd715a2a36faed16e2c65df7.jpg  b94cb00ed3e50f78   \n",
       "3  train_2406599165  00117e4fc239b1b641ff08340b429633.jpg  8514fc58eafea283   \n",
       "4  train_3369186413  00136d1cf4edede0203f32f05f660588.jpg  a6f319f924ad708c   \n",
       "\n",
       "                                               title  label_group  \n",
       "0                          Paper Bag Victoria Secret    249114794  \n",
       "1  Double Tape 3M VHB 12 mm x 4,5 m ORIGINAL / DO...   2937985045  \n",
       "2        Maling TTS Canned Pork Luncheon Meat 397 gr   2395904891  \n",
       "3  Daster Batik Lengan pendek - Motif Acak / Camp...   4093212188  \n",
       "4                  Nescafe \\xc3\\x89clair Latte 220ml   3648931069  "
      ]
     },
     "execution_count": 2,
     "metadata": {},
     "output_type": "execute_result"
    }
   ],
   "source": [
    "df = pd.read_csv('train_3.csv')\n",
    "df.head()"
   ]
  },
  {
   "cell_type": "code",
   "execution_count": 3,
   "metadata": {
    "ExecuteTime": {
     "end_time": "2021-06-16T08:21:36.064758Z",
     "start_time": "2021-06-16T08:21:35.939194Z"
    }
   },
   "outputs": [],
   "source": [
    "df['unicode_handled_title'] = df['title'].apply(lambda x: unidecode.unidecode(codecs.decode(x, 'unicode_escape')))"
   ]
  },
  {
   "cell_type": "code",
   "execution_count": 4,
   "metadata": {
    "ExecuteTime": {
     "end_time": "2021-06-16T08:21:36.104429Z",
     "start_time": "2021-06-16T08:21:36.070998Z"
    }
   },
   "outputs": [],
   "source": [
    "df['unicode_handled_title'] = df['unicode_handled_title'].str.lower()"
   ]
  },
  {
   "cell_type": "code",
   "execution_count": 5,
   "metadata": {
    "ExecuteTime": {
     "end_time": "2021-06-16T08:21:36.195820Z",
     "start_time": "2021-06-16T08:21:36.111661Z"
    }
   },
   "outputs": [
    {
     "data": {
      "text/html": [
       "<div>\n",
       "<style scoped>\n",
       "    .dataframe tbody tr th:only-of-type {\n",
       "        vertical-align: middle;\n",
       "    }\n",
       "\n",
       "    .dataframe tbody tr th {\n",
       "        vertical-align: top;\n",
       "    }\n",
       "\n",
       "    .dataframe thead th {\n",
       "        text-align: right;\n",
       "    }\n",
       "</style>\n",
       "<table border=\"1\" class=\"dataframe\">\n",
       "  <thead>\n",
       "    <tr style=\"text-align: right;\">\n",
       "      <th></th>\n",
       "      <th>posting_id</th>\n",
       "      <th>image</th>\n",
       "      <th>image_phash</th>\n",
       "      <th>title</th>\n",
       "      <th>label_group</th>\n",
       "      <th>unicode_handled_title</th>\n",
       "    </tr>\n",
       "  </thead>\n",
       "  <tbody>\n",
       "    <tr>\n",
       "      <th>0</th>\n",
       "      <td>train_129225211</td>\n",
       "      <td>0000a68812bc7e98c42888dfb1c07da0.jpg</td>\n",
       "      <td>94974f937d4c2433</td>\n",
       "      <td>Paper Bag Victoria Secret</td>\n",
       "      <td>249114794</td>\n",
       "      <td>paper bag victoria secret</td>\n",
       "    </tr>\n",
       "    <tr>\n",
       "      <th>1</th>\n",
       "      <td>train_3386243561</td>\n",
       "      <td>00039780dfc94d01db8676fe789ecd05.jpg</td>\n",
       "      <td>af3f9460c2838f0f</td>\n",
       "      <td>Double Tape 3M VHB 12 mm x 4,5 m ORIGINAL / DO...</td>\n",
       "      <td>2937985045</td>\n",
       "      <td>double tape 3m vhb 12 mm x 4,5 m original / do...</td>\n",
       "    </tr>\n",
       "    <tr>\n",
       "      <th>2</th>\n",
       "      <td>train_2288590299</td>\n",
       "      <td>000a190fdd715a2a36faed16e2c65df7.jpg</td>\n",
       "      <td>b94cb00ed3e50f78</td>\n",
       "      <td>Maling TTS Canned Pork Luncheon Meat 397 gr</td>\n",
       "      <td>2395904891</td>\n",
       "      <td>maling tts canned pork luncheon meat 397 gr</td>\n",
       "    </tr>\n",
       "    <tr>\n",
       "      <th>3</th>\n",
       "      <td>train_2406599165</td>\n",
       "      <td>00117e4fc239b1b641ff08340b429633.jpg</td>\n",
       "      <td>8514fc58eafea283</td>\n",
       "      <td>Daster Batik Lengan pendek - Motif Acak / Camp...</td>\n",
       "      <td>4093212188</td>\n",
       "      <td>daster batik lengan pendek - motif acak / camp...</td>\n",
       "    </tr>\n",
       "    <tr>\n",
       "      <th>4</th>\n",
       "      <td>train_3369186413</td>\n",
       "      <td>00136d1cf4edede0203f32f05f660588.jpg</td>\n",
       "      <td>a6f319f924ad708c</td>\n",
       "      <td>Nescafe \\xc3\\x89clair Latte 220ml</td>\n",
       "      <td>3648931069</td>\n",
       "      <td>nescafe aclair latte 220ml</td>\n",
       "    </tr>\n",
       "    <tr>\n",
       "      <th>...</th>\n",
       "      <td>...</td>\n",
       "      <td>...</td>\n",
       "      <td>...</td>\n",
       "      <td>...</td>\n",
       "      <td>...</td>\n",
       "      <td>...</td>\n",
       "    </tr>\n",
       "    <tr>\n",
       "      <th>34245</th>\n",
       "      <td>train_4028265689</td>\n",
       "      <td>fff1c07ceefc2c970a7964cfb81981c5.jpg</td>\n",
       "      <td>e3cd72389f248f21</td>\n",
       "      <td>Masker Bahan Kain Spunbond Non Woven 75 gsm 3 ...</td>\n",
       "      <td>3776555725</td>\n",
       "      <td>masker bahan kain spunbond non woven 75 gsm 3 ...</td>\n",
       "    </tr>\n",
       "    <tr>\n",
       "      <th>34246</th>\n",
       "      <td>train_769054909</td>\n",
       "      <td>fff401691371bdcb382a0d9075dfea6a.jpg</td>\n",
       "      <td>be86851f72e2853c</td>\n",
       "      <td>MamyPoko Pants Royal Soft - S 70 - Popok Celana</td>\n",
       "      <td>2736479533</td>\n",
       "      <td>mamypoko pants royal soft - s 70 - popok celana</td>\n",
       "    </tr>\n",
       "    <tr>\n",
       "      <th>34247</th>\n",
       "      <td>train_614977732</td>\n",
       "      <td>fff421b78fa7284284724baf249f522e.jpg</td>\n",
       "      <td>ad27f0d08c0fcbf0</td>\n",
       "      <td>KHANZAACC Robot RE101S 1.2mm Subwoofer Bass Me...</td>\n",
       "      <td>4101248785</td>\n",
       "      <td>khanzaacc robot re101s 1.2mm subwoofer bass me...</td>\n",
       "    </tr>\n",
       "    <tr>\n",
       "      <th>34248</th>\n",
       "      <td>train_3630949769</td>\n",
       "      <td>fff51b87916dbfb6d0f8faa01bee67b8.jpg</td>\n",
       "      <td>e3b13bd1d896c05c</td>\n",
       "      <td>Kaldu NON MSG HALAL Mama Kamu Ayam Kampung , S...</td>\n",
       "      <td>1663538013</td>\n",
       "      <td>kaldu non msg halal mama kamu ayam kampung , s...</td>\n",
       "    </tr>\n",
       "    <tr>\n",
       "      <th>34249</th>\n",
       "      <td>train_1792180725</td>\n",
       "      <td>ffffa0ab2ae542357671e96254fa7167.jpg</td>\n",
       "      <td>af8bc4b2d2cf9083</td>\n",
       "      <td>FLEX TAPE PELAPIS BOCOR / ISOLASI AJAIB / ANTI...</td>\n",
       "      <td>459464107</td>\n",
       "      <td>flex tape pelapis bocor / isolasi ajaib / anti...</td>\n",
       "    </tr>\n",
       "  </tbody>\n",
       "</table>\n",
       "<p>34250 rows × 6 columns</p>\n",
       "</div>"
      ],
      "text/plain": [
       "             posting_id                                 image  \\\n",
       "0       train_129225211  0000a68812bc7e98c42888dfb1c07da0.jpg   \n",
       "1      train_3386243561  00039780dfc94d01db8676fe789ecd05.jpg   \n",
       "2      train_2288590299  000a190fdd715a2a36faed16e2c65df7.jpg   \n",
       "3      train_2406599165  00117e4fc239b1b641ff08340b429633.jpg   \n",
       "4      train_3369186413  00136d1cf4edede0203f32f05f660588.jpg   \n",
       "...                 ...                                   ...   \n",
       "34245  train_4028265689  fff1c07ceefc2c970a7964cfb81981c5.jpg   \n",
       "34246   train_769054909  fff401691371bdcb382a0d9075dfea6a.jpg   \n",
       "34247   train_614977732  fff421b78fa7284284724baf249f522e.jpg   \n",
       "34248  train_3630949769  fff51b87916dbfb6d0f8faa01bee67b8.jpg   \n",
       "34249  train_1792180725  ffffa0ab2ae542357671e96254fa7167.jpg   \n",
       "\n",
       "            image_phash                                              title  \\\n",
       "0      94974f937d4c2433                          Paper Bag Victoria Secret   \n",
       "1      af3f9460c2838f0f  Double Tape 3M VHB 12 mm x 4,5 m ORIGINAL / DO...   \n",
       "2      b94cb00ed3e50f78        Maling TTS Canned Pork Luncheon Meat 397 gr   \n",
       "3      8514fc58eafea283  Daster Batik Lengan pendek - Motif Acak / Camp...   \n",
       "4      a6f319f924ad708c                  Nescafe \\xc3\\x89clair Latte 220ml   \n",
       "...                 ...                                                ...   \n",
       "34245  e3cd72389f248f21  Masker Bahan Kain Spunbond Non Woven 75 gsm 3 ...   \n",
       "34246  be86851f72e2853c    MamyPoko Pants Royal Soft - S 70 - Popok Celana   \n",
       "34247  ad27f0d08c0fcbf0  KHANZAACC Robot RE101S 1.2mm Subwoofer Bass Me...   \n",
       "34248  e3b13bd1d896c05c  Kaldu NON MSG HALAL Mama Kamu Ayam Kampung , S...   \n",
       "34249  af8bc4b2d2cf9083  FLEX TAPE PELAPIS BOCOR / ISOLASI AJAIB / ANTI...   \n",
       "\n",
       "       label_group                              unicode_handled_title  \n",
       "0        249114794                          paper bag victoria secret  \n",
       "1       2937985045  double tape 3m vhb 12 mm x 4,5 m original / do...  \n",
       "2       2395904891        maling tts canned pork luncheon meat 397 gr  \n",
       "3       4093212188  daster batik lengan pendek - motif acak / camp...  \n",
       "4       3648931069                         nescafe aclair latte 220ml  \n",
       "...            ...                                                ...  \n",
       "34245   3776555725  masker bahan kain spunbond non woven 75 gsm 3 ...  \n",
       "34246   2736479533    mamypoko pants royal soft - s 70 - popok celana  \n",
       "34247   4101248785  khanzaacc robot re101s 1.2mm subwoofer bass me...  \n",
       "34248   1663538013  kaldu non msg halal mama kamu ayam kampung , s...  \n",
       "34249    459464107  flex tape pelapis bocor / isolasi ajaib / anti...  \n",
       "\n",
       "[34250 rows x 6 columns]"
      ]
     },
     "execution_count": 5,
     "metadata": {},
     "output_type": "execute_result"
    }
   ],
   "source": [
    "df"
   ]
  },
  {
   "cell_type": "code",
   "execution_count": 6,
   "metadata": {
    "ExecuteTime": {
     "end_time": "2021-06-16T08:21:38.712700Z",
     "start_time": "2021-06-16T08:21:36.207558Z"
    }
   },
   "outputs": [
    {
     "data": {
      "text/plain": [
       "array([[0., 0., 0., ..., 0., 0., 0.],\n",
       "       [0., 0., 0., ..., 0., 0., 0.],\n",
       "       [0., 0., 0., ..., 0., 0., 0.],\n",
       "       ...,\n",
       "       [0., 0., 0., ..., 0., 0., 0.],\n",
       "       [0., 0., 0., ..., 0., 0., 0.],\n",
       "       [0., 0., 0., ..., 0., 0., 0.]])"
      ]
     },
     "execution_count": 6,
     "metadata": {},
     "output_type": "execute_result"
    }
   ],
   "source": [
    "# Create the tf-idf feature matrix\n",
    "tfidf = TfidfVectorizer()\n",
    "feature_matrix = tfidf.fit_transform(df.unicode_handled_title)\n",
    "\n",
    "# Show tf-idf feature matrix\n",
    "fm = feature_matrix.toarray()\n",
    "fm"
   ]
  },
  {
   "cell_type": "code",
   "execution_count": 7,
   "metadata": {
    "ExecuteTime": {
     "end_time": "2021-06-16T08:21:38.792033Z",
     "start_time": "2021-06-16T08:21:38.726324Z"
    }
   },
   "outputs": [
    {
     "data": {
      "text/plain": [
       "['00',\n",
       " '000',\n",
       " '0000',\n",
       " '0003',\n",
       " '0005',\n",
       " '000mah',\n",
       " '000mcg',\n",
       " '000mg',\n",
       " '000ml',\n",
       " '001',\n",
       " '00105',\n",
       " '00144',\n",
       " '00145',\n",
       " '0018h',\n",
       " '002',\n",
       " '0023713140',\n",
       " '0026',\n",
       " '003',\n",
       " '0038',\n",
       " '003angka',\n",
       " '004',\n",
       " '00405',\n",
       " '00406',\n",
       " '00424',\n",
       " '005',\n",
       " '00512',\n",
       " '0058',\n",
       " '006',\n",
       " '006a',\n",
       " '007',\n",
       " '0073',\n",
       " '008',\n",
       " '0088',\n",
       " '009',\n",
       " '0093',\n",
       " '01',\n",
       " '010',\n",
       " '0101',\n",
       " '011',\n",
       " '0116',\n",
       " '012',\n",
       " '0123',\n",
       " '0123456789',\n",
       " '013',\n",
       " '0136',\n",
       " '013p',\n",
       " '014',\n",
       " '015',\n",
       " '0156',\n",
       " '016',\n",
       " '0160',\n",
       " '0167',\n",
       " '017',\n",
       " '018',\n",
       " '0187',\n",
       " '0189m',\n",
       " '019',\n",
       " '0199',\n",
       " '01g',\n",
       " '01mn',\n",
       " '02',\n",
       " '020',\n",
       " '021',\n",
       " '021052',\n",
       " '0213',\n",
       " '0219',\n",
       " '022',\n",
       " '023',\n",
       " '025',\n",
       " '0286',\n",
       " '029',\n",
       " '03',\n",
       " '030',\n",
       " '0302',\n",
       " '0303n',\n",
       " '031',\n",
       " '0318',\n",
       " '032',\n",
       " '033',\n",
       " '035',\n",
       " '0354',\n",
       " '036',\n",
       " '0366',\n",
       " '037',\n",
       " '038',\n",
       " '0397',\n",
       " '04',\n",
       " '040',\n",
       " '0402',\n",
       " '0405',\n",
       " '0411',\n",
       " '042',\n",
       " '044',\n",
       " '045',\n",
       " '048',\n",
       " '049',\n",
       " '04936',\n",
       " '04b',\n",
       " '05',\n",
       " '050',\n",
       " '05001',\n",
       " '050gr',\n",
       " '051',\n",
       " '0515',\n",
       " '0533',\n",
       " '056',\n",
       " '0569',\n",
       " '057',\n",
       " '058',\n",
       " '06',\n",
       " '060',\n",
       " '0600',\n",
       " '0602',\n",
       " '06177',\n",
       " '0628',\n",
       " '0629',\n",
       " '063',\n",
       " '0655',\n",
       " '069',\n",
       " '06dr',\n",
       " '07',\n",
       " '070',\n",
       " '071',\n",
       " '075',\n",
       " '076',\n",
       " '0773',\n",
       " '08',\n",
       " '0800',\n",
       " '0804',\n",
       " '0805',\n",
       " '0814',\n",
       " '082',\n",
       " '082455411',\n",
       " '084',\n",
       " '0860',\n",
       " '089',\n",
       " '09',\n",
       " '0912',\n",
       " '095lv',\n",
       " '096',\n",
       " '09891',\n",
       " '0990',\n",
       " '09x14',\n",
       " '0a',\n",
       " '0f',\n",
       " '0k',\n",
       " '0m',\n",
       " '0mm',\n",
       " '10',\n",
       " '100',\n",
       " '1000',\n",
       " '10000',\n",
       " '100000',\n",
       " '10000mah',\n",
       " '1000cm',\n",
       " '1000g',\n",
       " '1000gr',\n",
       " '1000gram',\n",
       " '1000kpl',\n",
       " '1000mg',\n",
       " '1000ml',\n",
       " '1000pcs',\n",
       " '1001ac',\n",
       " '100237',\n",
       " '10028',\n",
       " '1002b',\n",
       " '1004',\n",
       " '10052',\n",
       " '1008s',\n",
       " '100cm',\n",
       " '100cmx75cm',\n",
       " '100ft',\n",
       " '100g',\n",
       " '100gr',\n",
       " '100gram',\n",
       " '100grm',\n",
       " '100gsm',\n",
       " '100iu',\n",
       " '100jm',\n",
       " '100k',\n",
       " '100kapsul',\n",
       " '100kg',\n",
       " '100kpsl',\n",
       " '100lbr',\n",
       " '100lembar',\n",
       " '100m',\n",
       " '100mb',\n",
       " '100mbps',\n",
       " '100ml',\n",
       " '100pc',\n",
       " '100pcs',\n",
       " '100persen',\n",
       " '100rb',\n",
       " '100ribu',\n",
       " '100s',\n",
       " '100tablet',\n",
       " '100w',\n",
       " '100watt',\n",
       " '100x100',\n",
       " '100x100cm',\n",
       " '100x120',\n",
       " '100x120cm',\n",
       " '100x150',\n",
       " '100x150x2cm',\n",
       " '100x200',\n",
       " '100x50',\n",
       " '100x50cm',\n",
       " '100x90',\n",
       " '100yd',\n",
       " '101',\n",
       " '1010',\n",
       " '10103',\n",
       " '101214',\n",
       " '1016',\n",
       " '1018',\n",
       " '101b',\n",
       " '102',\n",
       " '1022',\n",
       " '1023',\n",
       " '10242',\n",
       " '10244',\n",
       " '10246',\n",
       " '10249',\n",
       " '10252',\n",
       " '1028b',\n",
       " '1029',\n",
       " '102cm',\n",
       " '103',\n",
       " '1030',\n",
       " '1030r',\n",
       " '1031',\n",
       " '1034',\n",
       " '1035',\n",
       " '10359',\n",
       " '1039',\n",
       " '104',\n",
       " '1040',\n",
       " '10426',\n",
       " '1047',\n",
       " '1048gr',\n",
       " '105',\n",
       " '1050',\n",
       " '10500mah',\n",
       " '1055',\n",
       " '105g',\n",
       " '105gr',\n",
       " '105pcs',\n",
       " '105x135cm',\n",
       " '106',\n",
       " '1060',\n",
       " '1062',\n",
       " '1064',\n",
       " '10664',\n",
       " '10668',\n",
       " '10672',\n",
       " '1069',\n",
       " '106cm',\n",
       " '106g',\n",
       " '107',\n",
       " '107113',\n",
       " '1073',\n",
       " '107658',\n",
       " '108',\n",
       " '1080',\n",
       " '1080p',\n",
       " '1081',\n",
       " '1088',\n",
       " '108a',\n",
       " '108cm',\n",
       " '108pcs',\n",
       " '109',\n",
       " '1090',\n",
       " '109x79',\n",
       " '10a',\n",
       " '10ampere',\n",
       " '10bks',\n",
       " '10clr',\n",
       " '10cm',\n",
       " '10cma10m',\n",
       " '10d',\n",
       " '10g',\n",
       " '10gb',\n",
       " '10gr',\n",
       " '10gram',\n",
       " '10grz',\n",
       " '10in1',\n",
       " '10kg',\n",
       " '10l',\n",
       " '10led',\n",
       " '10lembar',\n",
       " '10m',\n",
       " '10mg',\n",
       " '10ml',\n",
       " '10mm',\n",
       " '10mtr',\n",
       " '10pc',\n",
       " '10pcs',\n",
       " '10rb',\n",
       " '10roll',\n",
       " '10rolls',\n",
       " '10s',\n",
       " '10sachet',\n",
       " '10sch',\n",
       " '10set',\n",
       " '10t',\n",
       " '10tahun',\n",
       " '10th',\n",
       " '10thn',\n",
       " '10w',\n",
       " '10watt',\n",
       " '10x',\n",
       " '10x12',\n",
       " '10x15cm',\n",
       " '10x20',\n",
       " '10x20gr',\n",
       " '10x25',\n",
       " '10x25gr',\n",
       " '10x28',\n",
       " '10x6x13',\n",
       " '10y',\n",
       " '11',\n",
       " '110',\n",
       " '1100',\n",
       " '1100d',\n",
       " '1100gr',\n",
       " '1100ml',\n",
       " '11030078',\n",
       " '1107',\n",
       " '1109',\n",
       " '110cm',\n",
       " '110cmx60cm',\n",
       " '110g',\n",
       " '110gr',\n",
       " '110ml',\n",
       " '110x110',\n",
       " '111',\n",
       " '1111',\n",
       " '1111shoppesuperseller',\n",
       " '1112',\n",
       " '11148',\n",
       " '11149',\n",
       " '1115',\n",
       " '11156',\n",
       " '111b',\n",
       " '112',\n",
       " '1120421',\n",
       " '1122',\n",
       " '1123',\n",
       " '11245',\n",
       " '112600',\n",
       " '113',\n",
       " '1133',\n",
       " '1134',\n",
       " '1138',\n",
       " '1139',\n",
       " '114',\n",
       " '1140',\n",
       " '1141',\n",
       " '1144',\n",
       " '115',\n",
       " '115000',\n",
       " '1150gr',\n",
       " '1151',\n",
       " '1154',\n",
       " '1157',\n",
       " '115g',\n",
       " '115gr',\n",
       " '115ml',\n",
       " '115rb',\n",
       " '115x115',\n",
       " '115x90',\n",
       " '116',\n",
       " '1164',\n",
       " '116cm',\n",
       " '116l',\n",
       " '1170',\n",
       " '118',\n",
       " '1185',\n",
       " '11886',\n",
       " '118ml',\n",
       " '118swn',\n",
       " '1199',\n",
       " '11big',\n",
       " '11cm',\n",
       " '11g',\n",
       " '11gr',\n",
       " '11gram',\n",
       " '11jt',\n",
       " '11n',\n",
       " '11oz',\n",
       " '11pc',\n",
       " '11pcs',\n",
       " '11pro',\n",
       " '11promax',\n",
       " '11supersale',\n",
       " '11tahun',\n",
       " '11th',\n",
       " '11w',\n",
       " '11warna',\n",
       " '11x25',\n",
       " '11y',\n",
       " '12',\n",
       " '120',\n",
       " '1200',\n",
       " '12000',\n",
       " '1200a',\n",
       " '1200d',\n",
       " '1200mah',\n",
       " '1200ml',\n",
       " '1201',\n",
       " '1203',\n",
       " '120421',\n",
       " '120481',\n",
       " '1206d',\n",
       " '1209',\n",
       " '120cm',\n",
       " '120d',\n",
       " '120dplus',\n",
       " '120g',\n",
       " '120gb',\n",
       " '120gr',\n",
       " '120h',\n",
       " '120ml',\n",
       " '120mm',\n",
       " '120pcs',\n",
       " '120w',\n",
       " '120x100',\n",
       " '120x200',\n",
       " '120x200cm',\n",
       " '120x200x20',\n",
       " '121',\n",
       " '1210',\n",
       " '1211',\n",
       " '1212',\n",
       " '1214',\n",
       " '122',\n",
       " '1225',\n",
       " '1226',\n",
       " '1227',\n",
       " '1227b',\n",
       " '1228',\n",
       " '122b',\n",
       " '123',\n",
       " '1230',\n",
       " '1232',\n",
       " '1239',\n",
       " '123a',\n",
       " '124',\n",
       " '125',\n",
       " '1250',\n",
       " '1253',\n",
       " '1257',\n",
       " '1259',\n",
       " '125cm',\n",
       " '125g',\n",
       " '125gr',\n",
       " '125ml',\n",
       " '1260',\n",
       " '1268',\n",
       " '126g',\n",
       " '126gr',\n",
       " '127',\n",
       " '127072',\n",
       " '1274',\n",
       " '1275',\n",
       " '1279',\n",
       " '128',\n",
       " '1287',\n",
       " '128gb',\n",
       " '128gd',\n",
       " '129',\n",
       " '1290',\n",
       " '1299',\n",
       " '129gr',\n",
       " '12btl',\n",
       " '12c',\n",
       " '12clr',\n",
       " '12cm',\n",
       " '12dbi',\n",
       " '12g',\n",
       " '12gb',\n",
       " '12gr',\n",
       " '12in1',\n",
       " '12inch',\n",
       " '12kg',\n",
       " '12m',\n",
       " '12meter',\n",
       " '12mini',\n",
       " '12ml',\n",
       " '12mm',\n",
       " '12mp',\n",
       " '12oz',\n",
       " '12pasang',\n",
       " '12pass',\n",
       " '12pc',\n",
       " '12pcs',\n",
       " '12pin',\n",
       " '12pola',\n",
       " '12psng',\n",
       " '12s',\n",
       " '12sheet',\n",
       " '12sp',\n",
       " '12tahun',\n",
       " '12th',\n",
       " '12thn',\n",
       " '12v',\n",
       " '12v6',\n",
       " '12v6a',\n",
       " '12volt',\n",
       " '12w',\n",
       " '12watt',\n",
       " '12x11',\n",
       " '12x12',\n",
       " '12x16gr',\n",
       " '12x20',\n",
       " '12x25',\n",
       " '12x4',\n",
       " '12y',\n",
       " '13',\n",
       " '130',\n",
       " '13000mah',\n",
       " '1300d',\n",
       " '1300grm',\n",
       " '1302',\n",
       " '13074',\n",
       " '130c',\n",
       " '130cm',\n",
       " '130gr',\n",
       " '130l',\n",
       " '130mb',\n",
       " '130mbps',\n",
       " '130ml',\n",
       " '130mm',\n",
       " '130pcs',\n",
       " '130x130',\n",
       " '130x180',\n",
       " '130x190',\n",
       " '1313',\n",
       " '1318',\n",
       " '1319',\n",
       " '132',\n",
       " '133',\n",
       " '13312',\n",
       " '1331255',\n",
       " '133gr',\n",
       " '134a',\n",
       " '135',\n",
       " '1358',\n",
       " '135cm',\n",
       " '135gr',\n",
       " '135ml',\n",
       " '135x190',\n",
       " '135x220',\n",
       " '136',\n",
       " '1366',\n",
       " '137',\n",
       " '1372',\n",
       " '137cm',\n",
       " '137x180',\n",
       " '138',\n",
       " '1384',\n",
       " '1388',\n",
       " '13a',\n",
       " '13cm',\n",
       " '13gr',\n",
       " '13l',\n",
       " '13led',\n",
       " '13mm',\n",
       " '13oz',\n",
       " '13tahun',\n",
       " '13w',\n",
       " '13y',\n",
       " '14',\n",
       " '140',\n",
       " '1400',\n",
       " '1407',\n",
       " '140cm',\n",
       " '140g',\n",
       " '140gr',\n",
       " '140ml',\n",
       " '140x195cm',\n",
       " '141',\n",
       " '141618',\n",
       " '1418',\n",
       " '141abc',\n",
       " '142',\n",
       " '1423',\n",
       " '14271',\n",
       " '143',\n",
       " '144',\n",
       " '1443',\n",
       " '1449',\n",
       " '145',\n",
       " '145gr',\n",
       " '145ml',\n",
       " '146',\n",
       " '146543',\n",
       " '146gr',\n",
       " '148',\n",
       " '149',\n",
       " '1493',\n",
       " '1497gbi',\n",
       " '149k',\n",
       " '14c',\n",
       " '14cm',\n",
       " '14g',\n",
       " '14gr',\n",
       " '14ml',\n",
       " '14mm',\n",
       " '14oz',\n",
       " '14pcs',\n",
       " '14s',\n",
       " '14tahun',\n",
       " '14w',\n",
       " '14x20',\n",
       " '14x25',\n",
       " '14x8x3',\n",
       " '15',\n",
       " '150',\n",
       " '1500',\n",
       " '1500d',\n",
       " '15062',\n",
       " '150cm',\n",
       " '150g',\n",
       " '150gr',\n",
       " '150gram',\n",
       " '150grm',\n",
       " '150kg',\n",
       " '150m',\n",
       " '150mb',\n",
       " '150mbps',\n",
       " '150ml',\n",
       " '150mll',\n",
       " '150r',\n",
       " '150s',\n",
       " '150watt',\n",
       " '150x200',\n",
       " '150x200cm',\n",
       " '152',\n",
       " '152cm',\n",
       " '153',\n",
       " '1535',\n",
       " '155',\n",
       " '1559',\n",
       " '1569',\n",
       " '156gr',\n",
       " '157048',\n",
       " '1572',\n",
       " '1575',\n",
       " '1577',\n",
       " '1582',\n",
       " '1589',\n",
       " '159',\n",
       " '1592',\n",
       " '15ap',\n",
       " '15bulan',\n",
       " '15cm',\n",
       " '15derajat',\n",
       " '15g',\n",
       " '15gb',\n",
       " '15gr',\n",
       " '15gram',\n",
       " '15grm',\n",
       " '15m',\n",
       " '15meter',\n",
       " '15ml',\n",
       " '15mm',\n",
       " '15pa',\n",
       " '15pcs',\n",
       " '15rb',\n",
       " '15sachet',\n",
       " '15w',\n",
       " '15watt',\n",
       " '15x',\n",
       " '15x10x5',\n",
       " '15x15',\n",
       " '15x20',\n",
       " '15x21',\n",
       " '15x25',\n",
       " '15x30',\n",
       " '15x33cm',\n",
       " '15x6x38',\n",
       " '15yard',\n",
       " '16',\n",
       " '160',\n",
       " '1600',\n",
       " '1600dpi',\n",
       " '1600g',\n",
       " '1600gr',\n",
       " '1600ml',\n",
       " '1600tg',\n",
       " '1603',\n",
       " '1605',\n",
       " '1606',\n",
       " '1607',\n",
       " '1609',\n",
       " '160a200',\n",
       " '160g',\n",
       " '160gr',\n",
       " '160ml',\n",
       " '160pcs',\n",
       " '160psi',\n",
       " '160x200',\n",
       " '160x200cm',\n",
       " '1618',\n",
       " '1618b',\n",
       " '162',\n",
       " '1622',\n",
       " '1627',\n",
       " '1629',\n",
       " '1629kb',\n",
       " '1645',\n",
       " '165',\n",
       " '1653',\n",
       " '165gr',\n",
       " '165pcs',\n",
       " '1662',\n",
       " '16688',\n",
       " '167',\n",
       " '1671',\n",
       " '16771',\n",
       " '167g',\n",
       " '168',\n",
       " '1682',\n",
       " '1688',\n",
       " '169',\n",
       " '1697',\n",
       " '16a',\n",
       " '16cm',\n",
       " '16cocn',\n",
       " '16dw',\n",
       " '16g',\n",
       " '16gb',\n",
       " '16in',\n",
       " '16inch',\n",
       " '16k',\n",
       " '16mb',\n",
       " '16mm',\n",
       " '16pc',\n",
       " '16pcs',\n",
       " '16s',\n",
       " '16sekat',\n",
       " '16so33',\n",
       " '16tgv',\n",
       " '16th',\n",
       " '16x1',\n",
       " '16x16',\n",
       " '16x25',\n",
       " '16x250gr',\n",
       " '16x52',\n",
       " '16x8x20',\n",
       " '17',\n",
       " '170',\n",
       " '1700',\n",
       " '17000',\n",
       " '1705',\n",
       " '170cm',\n",
       " '170g',\n",
       " '170gr',\n",
       " '170mb',\n",
       " '170ml',\n",
       " '17113',\n",
       " '17201',\n",
       " '17238',\n",
       " '1736',\n",
       " '1737',\n",
       " '174',\n",
       " '17472',\n",
       " '175',\n",
       " '175gr',\n",
       " '175grm',\n",
       " '175ml',\n",
       " '175x75',\n",
       " '176',\n",
       " '1766',\n",
       " '177',\n",
       " '178',\n",
       " '178ml',\n",
       " '179',\n",
       " '1790',\n",
       " '17an',\n",
       " '17cm',\n",
       " '17gb',\n",
       " '17grm',\n",
       " '17ml',\n",
       " '17pcs',\n",
       " '17w',\n",
       " '17watt',\n",
       " '18',\n",
       " '180',\n",
       " '1800',\n",
       " '1800g',\n",
       " '1800gr',\n",
       " '1800gram',\n",
       " '1802',\n",
       " '1804',\n",
       " '1809',\n",
       " '180cm',\n",
       " '180g',\n",
       " '180gr',\n",
       " '180kg',\n",
       " '180ml',\n",
       " '180sheet',\n",
       " '180x137',\n",
       " '180x180',\n",
       " '180x200',\n",
       " '180x200cm',\n",
       " '180x75',\n",
       " '180x80cm',\n",
       " '181',\n",
       " '1810',\n",
       " '1811',\n",
       " '1813',\n",
       " '18140101423',\n",
       " '182',\n",
       " '1820',\n",
       " '1822',\n",
       " '1823',\n",
       " '1825',\n",
       " '1828',\n",
       " '182gr',\n",
       " '184',\n",
       " '185',\n",
       " '185gr',\n",
       " '185rb',\n",
       " '186',\n",
       " '18650',\n",
       " '1888',\n",
       " '189',\n",
       " '189ml',\n",
       " '18c',\n",
       " '18cetakan',\n",
       " '18clr',\n",
       " '18cm',\n",
       " '18g',\n",
       " '18gr',\n",
       " '18in',\n",
       " '18in1',\n",
       " '18k',\n",
       " '18ml',\n",
       " '18mm',\n",
       " '18pcs',\n",
       " '18w',\n",
       " '18wa',\n",
       " '18x21cm',\n",
       " '18x25',\n",
       " '18x5x22',\n",
       " '19',\n",
       " '190',\n",
       " '1902',\n",
       " '19046',\n",
       " '190g',\n",
       " '190ml',\n",
       " '190mlx24',\n",
       " '190x210cm',\n",
       " '1910',\n",
       " '191cm',\n",
       " '1920',\n",
       " '19200',\n",
       " '1921',\n",
       " '1922',\n",
       " '1924',\n",
       " '196',\n",
       " '1966',\n",
       " '1988',\n",
       " '1989',\n",
       " '1990',\n",
       " '1998',\n",
       " '19g',\n",
       " '19gr',\n",
       " '19mm',\n",
       " '19v',\n",
       " '19v3',\n",
       " '19x25',\n",
       " '1_6tahun',\n",
       " '1_7',\n",
       " '1a',\n",
       " '1a1',\n",
       " '1adr',\n",
       " '1ampare',\n",
       " '1ausb',\n",
       " '1ax802',\n",
       " '1bat',\n",
       " '1biji',\n",
       " '1bks',\n",
       " '1box',\n",
       " '1bubble',\n",
       " '1cm',\n",
       " '1d',\n",
       " '1dd',\n",
       " '1drum',\n",
       " '1g',\n",
       " '1gb',\n",
       " '1ghz',\n",
       " '1gr',\n",
       " '1in1',\n",
       " '1inch',\n",
       " '1jam',\n",
       " '1kg',\n",
       " '1kilo',\n",
       " '1kodi',\n",
       " '1kojor',\n",
       " '1l',\n",
       " '1liter',\n",
       " '1lsn',\n",
       " '1lt',\n",
       " '1lusin',\n",
       " '1m',\n",
       " '1meter',\n",
       " '1ml',\n",
       " '1mm',\n",
       " '1n',\n",
       " '1pack',\n",
       " '1pair',\n",
       " '1pak',\n",
       " '1paket',\n",
       " '1pasang',\n",
       " '1pc',\n",
       " '1pcs',\n",
       " '1r',\n",
       " '1rakgantung',\n",
       " '1renceng',\n",
       " '1renteng',\n",
       " '1res',\n",
       " '1s7',\n",
       " '1set',\n",
       " '1slup',\n",
       " '1smd',\n",
       " '1st',\n",
       " '1t',\n",
       " '1tahun',\n",
       " '1tb',\n",
       " '1th',\n",
       " '1toples',\n",
       " '1usb',\n",
       " '1warna',\n",
       " '1x4',\n",
       " '1x5',\n",
       " '1xskin',\n",
       " '1y',\n",
       " '20',\n",
       " '200',\n",
       " '2000',\n",
       " '20000',\n",
       " '20000mah',\n",
       " '2000gr',\n",
       " '2000gs',\n",
       " '2000mah',\n",
       " '2000ml',\n",
       " '2000n',\n",
       " '2000w',\n",
       " '2002',\n",
       " '2004',\n",
       " '2004p',\n",
       " '2005',\n",
       " '2006',\n",
       " '2008',\n",
       " '200807320',\n",
       " '20081',\n",
       " '2009',\n",
       " '200cm',\n",
       " '200cmx100cmx50cm',\n",
       " '200g',\n",
       " '200gr',\n",
       " '200gram',\n",
       " '200kapsul',\n",
       " '200kg',\n",
       " '200kp',\n",
       " '200lbr',\n",
       " '200m',\n",
       " '200ml',\n",
       " '200mlw',\n",
       " '200n',\n",
       " '200pcs',\n",
       " '200set',\n",
       " '200watt',\n",
       " '200x100x50',\n",
       " '200x200',\n",
       " '200x75',\n",
       " '201',\n",
       " '2011',\n",
       " '2012',\n",
       " '2013',\n",
       " '2014',\n",
       " '2015',\n",
       " '2016',\n",
       " '2017',\n",
       " '2018',\n",
       " '2019',\n",
       " '2019new',\n",
       " '201cm',\n",
       " '201m',\n",
       " '201x150',\n",
       " '202',\n",
       " '2020',\n",
       " '2020u3',\n",
       " '2021',\n",
       " '2022',\n",
       " '2023',\n",
       " '2024',\n",
       " ...]"
      ]
     },
     "execution_count": 7,
     "metadata": {},
     "output_type": "execute_result"
    }
   ],
   "source": [
    "tfidf.get_feature_names()"
   ]
  },
  {
   "cell_type": "code",
   "execution_count": null,
   "metadata": {
    "ExecuteTime": {
     "start_time": "2021-06-16T08:21:31.986Z"
    }
   },
   "outputs": [],
   "source": [
    "cossim = cosine_similarity(fm)\n",
    "cossim"
   ]
  },
  {
   "cell_type": "code",
   "execution_count": null,
   "metadata": {
    "ExecuteTime": {
     "start_time": "2021-06-16T08:21:31.989Z"
    }
   },
   "outputs": [],
   "source": [
    "image_names = df['image'].values"
   ]
  },
  {
   "cell_type": "code",
   "execution_count": null,
   "metadata": {
    "ExecuteTime": {
     "start_time": "2021-06-16T08:21:31.993Z"
    }
   },
   "outputs": [],
   "source": [
    "df_a = pd.DataFrame(cossim, columns=image_names)\n",
    "df_a"
   ]
  },
  {
   "cell_type": "code",
   "execution_count": null,
   "metadata": {
    "ExecuteTime": {
     "start_time": "2021-06-16T08:21:31.995Z"
    }
   },
   "outputs": [],
   "source": [
    "pred_dict_06 = {}\n",
    "for i, im_name in enumerate(image_names):\n",
    "    matches = []\n",
    "    for j, val in enumerate(df_a.iloc[i].values):\n",
    "        if val > 0.6:\n",
    "            matches.append(df_a.columns[j])           \n",
    "    pred_dict_06[im_name] = matches "
   ]
  },
  {
   "cell_type": "code",
   "execution_count": null,
   "metadata": {
    "ExecuteTime": {
     "start_time": "2021-06-16T08:21:31.999Z"
    }
   },
   "outputs": [],
   "source": [
    "pred_dict_06 "
   ]
  },
  {
   "cell_type": "code",
   "execution_count": null,
   "metadata": {
    "ExecuteTime": {
     "start_time": "2021-06-16T08:21:32.006Z"
    }
   },
   "outputs": [],
   "source": [
    "def get_f1_score2(pred, y_true):\n",
    "    \"\"\"returns mean F1 score. The mean is calculated in a sample-wise fashion, \n",
    "        meaning that an F1 score is calculated for every predicted row, then averaged.\n",
    "    \"\"\"\n",
    "    \n",
    "    f1_scores = []\n",
    "    \n",
    "    for key in pred.keys():\n",
    "        \n",
    "        pr_list = pred[key]\n",
    "        pr_true_list = y_true[key]\n",
    "        \n",
    "        tp = len(set(pr_list) & set(pr_true_list))\n",
    "        fp = len(np.setdiff1d(pr_list, pr_true_list))\n",
    "        fn = len(np.setdiff1d(pr_true_list, pr_list))\n",
    "        \n",
    "        f1 = tp / (tp + 0.5*(fp + fn))\n",
    "        \n",
    "        f1_scores.append(f1)\n",
    "\n",
    "    return sum(f1_scores) / len(f1_scores) , f1_scores"
   ]
  },
  {
   "cell_type": "code",
   "execution_count": null,
   "metadata": {
    "ExecuteTime": {
     "start_time": "2021-06-16T08:21:32.010Z"
    }
   },
   "outputs": [],
   "source": [
    "def get_matches2(y, grouped_data):\n",
    "    \"\"\" returns list of all matches by item\n",
    "    \"\"\"\n",
    "    \n",
    "    matches = {}\n",
    "    for i in range(len(y)):\n",
    "        im1 = df.loc[i, 'image']\n",
    "        g = y.iloc[i]\n",
    "        labels = list(grouped_classes.get_group(g).image.values)\n",
    "        labels.remove(im1)\n",
    "        matches[im1] = labels\n",
    "    \n",
    "    return matches"
   ]
  },
  {
   "cell_type": "code",
   "execution_count": null,
   "metadata": {
    "ExecuteTime": {
     "start_time": "2021-06-16T08:21:32.013Z"
    }
   },
   "outputs": [],
   "source": [
    "grouped_classes = df.groupby('label_group')\n",
    "labels_for_matches = df['label_group']\n",
    "\n",
    "matches_dict = get_matches2(labels_for_matches, grouped_classes)"
   ]
  },
  {
   "cell_type": "code",
   "execution_count": null,
   "metadata": {
    "ExecuteTime": {
     "start_time": "2021-06-16T08:21:32.018Z"
    }
   },
   "outputs": [],
   "source": [
    "matches_dict"
   ]
  },
  {
   "cell_type": "code",
   "execution_count": null,
   "metadata": {
    "ExecuteTime": {
     "start_time": "2021-06-16T08:21:32.021Z"
    }
   },
   "outputs": [],
   "source": [
    "text_score_6, text_score_list_6 = get_f1_score2(pred_dict_06, matches_dict)"
   ]
  },
  {
   "cell_type": "code",
   "execution_count": null,
   "metadata": {
    "ExecuteTime": {
     "start_time": "2021-06-16T08:21:32.023Z"
    }
   },
   "outputs": [],
   "source": [
    "text_score_6"
   ]
  },
  {
   "cell_type": "code",
   "execution_count": null,
   "metadata": {
    "ExecuteTime": {
     "start_time": "2021-06-16T08:21:32.025Z"
    }
   },
   "outputs": [],
   "source": [
    "import json  \n",
    "       \n",
    "# Data to be written  \n",
    "dictionary =pred_dict_06 \n",
    "\n",
    "with open(\"sample_6_tfidf.json\", \"w\") as outfile: \n",
    "    json.dump(dictionary, outfile)"
   ]
  },
  {
   "cell_type": "markdown",
   "metadata": {},
   "source": [
    "### 0.7"
   ]
  },
  {
   "cell_type": "code",
   "execution_count": null,
   "metadata": {
    "ExecuteTime": {
     "start_time": "2021-06-16T08:21:32.186Z"
    }
   },
   "outputs": [],
   "source": [
    "pred_dict_07 = {}\n",
    "for i, im_name in enumerate(image_names):\n",
    "    matches = []\n",
    "    for j, val in enumerate(df_a.iloc[i].values):\n",
    "        if val > 0.7:\n",
    "            matches.append(df_a.columns[j])           \n",
    "    pred_dict_07[im_name] = matches "
   ]
  },
  {
   "cell_type": "code",
   "execution_count": null,
   "metadata": {
    "ExecuteTime": {
     "start_time": "2021-06-16T08:21:32.189Z"
    }
   },
   "outputs": [],
   "source": [
    "text_score_7, text_score_list = get_f1_score2(pred_dict_07, matches_dict)"
   ]
  },
  {
   "cell_type": "code",
   "execution_count": null,
   "metadata": {
    "ExecuteTime": {
     "start_time": "2021-06-16T08:21:32.192Z"
    },
    "scrolled": true
   },
   "outputs": [],
   "source": [
    "text_score_7"
   ]
  },
  {
   "cell_type": "code",
   "execution_count": null,
   "metadata": {
    "ExecuteTime": {
     "start_time": "2021-06-16T08:21:32.196Z"
    }
   },
   "outputs": [],
   "source": [
    "import json  \n",
    "       \n",
    "# Data to be written  \n",
    "dictionary =pred_dict_07 \n",
    "\n",
    "with open(\"sample_07_tfidf.json\", \"w\") as outfile: \n",
    "    json.dump(dictionary, outfile)"
   ]
  },
  {
   "cell_type": "markdown",
   "metadata": {},
   "source": [
    "### 0.8"
   ]
  },
  {
   "cell_type": "code",
   "execution_count": null,
   "metadata": {
    "ExecuteTime": {
     "start_time": "2021-06-16T08:21:32.269Z"
    }
   },
   "outputs": [],
   "source": [
    "pred_dict_08 = {}\n",
    "for i, im_name in enumerate(image_names):\n",
    "    matches = []\n",
    "    for j, val in enumerate(df_a.iloc[i].values):\n",
    "        if val > 0.8:\n",
    "            matches.append(df_a.columns[j])           \n",
    "    pred_dict_08[im_name] = matches "
   ]
  },
  {
   "cell_type": "code",
   "execution_count": null,
   "metadata": {
    "ExecuteTime": {
     "start_time": "2021-06-16T08:21:32.272Z"
    }
   },
   "outputs": [],
   "source": [
    "text_score_8, text_score_list_8 = get_f1_score2(pred_dict_08, matches_dict)"
   ]
  },
  {
   "cell_type": "code",
   "execution_count": null,
   "metadata": {
    "ExecuteTime": {
     "start_time": "2021-06-16T08:21:32.276Z"
    }
   },
   "outputs": [],
   "source": [
    "text_score_8"
   ]
  },
  {
   "cell_type": "code",
   "execution_count": null,
   "metadata": {
    "ExecuteTime": {
     "start_time": "2021-06-16T08:21:32.280Z"
    }
   },
   "outputs": [],
   "source": [
    "import json  \n",
    "       \n",
    "# Data to be written  \n",
    "dictionary =pred_dict_08 \n",
    "\n",
    "with open(\"sample_08_tfidf.json\", \"w\") as outfile: \n",
    "    json.dump(dictionary, outfile)"
   ]
  },
  {
   "cell_type": "markdown",
   "metadata": {},
   "source": [
    "### 0.9"
   ]
  },
  {
   "cell_type": "code",
   "execution_count": null,
   "metadata": {
    "ExecuteTime": {
     "start_time": "2021-06-16T08:21:32.354Z"
    }
   },
   "outputs": [],
   "source": [
    "pred_dict_09 = {}\n",
    "for i, im_name in enumerate(image_names):\n",
    "    matches = []\n",
    "    for j, val in enumerate(df_a.iloc[i].values):\n",
    "        if val > 0.9:\n",
    "            matches.append(df_a.columns[j])           \n",
    "    pred_dict_09[im_name] = matches "
   ]
  },
  {
   "cell_type": "code",
   "execution_count": null,
   "metadata": {
    "ExecuteTime": {
     "start_time": "2021-06-16T08:21:32.358Z"
    }
   },
   "outputs": [],
   "source": [
    "text_score_9, text_score_list_9 = get_f1_score2(pred_dict_09, matches_dict)"
   ]
  },
  {
   "cell_type": "code",
   "execution_count": null,
   "metadata": {
    "ExecuteTime": {
     "start_time": "2021-06-16T08:21:32.363Z"
    }
   },
   "outputs": [],
   "source": [
    "text_score_9"
   ]
  },
  {
   "cell_type": "code",
   "execution_count": null,
   "metadata": {
    "ExecuteTime": {
     "start_time": "2021-06-16T08:21:32.366Z"
    }
   },
   "outputs": [],
   "source": [
    "import json  \n",
    "       \n",
    "# Data to be written  \n",
    "dictionary =pred_dict_09 \n",
    "\n",
    "with open(\"sample_09_tfidf.json\", \"w\") as outfile: \n",
    "    json.dump(dictionary, outfile)"
   ]
  },
  {
   "cell_type": "code",
   "execution_count": null,
   "metadata": {
    "ExecuteTime": {
     "start_time": "2021-06-16T08:21:32.370Z"
    }
   },
   "outputs": [],
   "source": [
    "di = {'Threshold': [0.5, 0.6, 0.7, 0.8, 0.9], 'col2': [0.404, 0.360, 0.285, 0.197, 0.115]}\n",
    "df = pd.DataFrame(data=di)\n",
    "df"
   ]
  },
  {
   "cell_type": "markdown",
   "metadata": {},
   "source": [
    "### 0.5"
   ]
  },
  {
   "cell_type": "code",
   "execution_count": null,
   "metadata": {
    "ExecuteTime": {
     "start_time": "2021-06-16T08:21:32.442Z"
    }
   },
   "outputs": [],
   "source": [
    "pred_dict_05 = {}\n",
    "for i, im_name in enumerate(image_names):\n",
    "    matches = []\n",
    "    for j, val in enumerate(df_a.iloc[i].values):\n",
    "        if val > 0.5:\n",
    "            matches.append(df_a.columns[j])           \n",
    "    pred_dict_05[im_name] = matches "
   ]
  },
  {
   "cell_type": "code",
   "execution_count": null,
   "metadata": {
    "ExecuteTime": {
     "start_time": "2021-06-16T08:21:32.447Z"
    }
   },
   "outputs": [],
   "source": [
    "text_score_5, text_score_list_5 = get_f1_score2(pred_dict_05, matches_dict)"
   ]
  },
  {
   "cell_type": "code",
   "execution_count": null,
   "metadata": {
    "ExecuteTime": {
     "start_time": "2021-06-16T08:21:32.450Z"
    }
   },
   "outputs": [],
   "source": [
    "text_score_5"
   ]
  },
  {
   "cell_type": "code",
   "execution_count": null,
   "metadata": {
    "ExecuteTime": {
     "start_time": "2021-06-16T08:21:32.454Z"
    }
   },
   "outputs": [],
   "source": [
    "dictionary = pred_dict_05 \n",
    "\n",
    "with open(\"sample_05_tfidf.json\", \"w\") as outfile: \n",
    "    json.dump(dictionary, outfile)"
   ]
  },
  {
   "cell_type": "code",
   "execution_count": null,
   "metadata": {},
   "outputs": [],
   "source": []
  },
  {
   "cell_type": "code",
   "execution_count": null,
   "metadata": {
    "ExecuteTime": {
     "start_time": "2021-06-16T08:21:32.459Z"
    }
   },
   "outputs": [],
   "source": [
    "def get_matches2(y, grouped_data):\n",
    "    \"\"\" returns list of all matches by item\n",
    "    \"\"\"\n",
    "    \n",
    "    matches = {}\n",
    "    for i in range(len(y)):\n",
    "        im1 = df.loc[i, 'image']\n",
    "        g = y.iloc[i]\n",
    "        labels = list(grouped_classes.get_group(g).image.values)\n",
    "        labels.remove(im1)\n",
    "        matches[im1] = labels\n",
    "    \n",
    "    return matches"
   ]
  },
  {
   "cell_type": "code",
   "execution_count": null,
   "metadata": {
    "ExecuteTime": {
     "start_time": "2021-06-16T08:21:32.462Z"
    }
   },
   "outputs": [],
   "source": [
    "def get_metrics(pred, y_true):\n",
    "    \"\"\"returns mean F1 score. The mean is calculated in a sample-wise fashion, \n",
    "        meaning that an F1 score is calculated for every predicted row, then averaged.\n",
    "    \"\"\"\n",
    "    \n",
    "    f1_scores = []\n",
    "    recalls = []\n",
    "    precisions = []\n",
    "    \n",
    "    for key in pred.keys():\n",
    "        \n",
    "        pr_list = pred[key]\n",
    "        pr_true_list = y_true[key]\n",
    "        \n",
    "        tp = len(set(pr_list) & set(pr_true_list))\n",
    "        fp = len(np.setdiff1d(pr_list, pr_true_list))\n",
    "        fn = len(np.setdiff1d(pr_true_list, pr_list))\n",
    "        \n",
    "        f1 = tp / (tp + 0.5*(fp + fn))\n",
    "        recall = tp / (tp + fn + 0.000000000000000000001)\n",
    "        precision = tp / (tp + fp + 0.000000000000000000001)\n",
    "        \n",
    "        f1_scores.append(f1)\n",
    "        recalls.append(recall)\n",
    "        precisions.append(precision)\n",
    "\n",
    "    return sum(recalls) / len(recalls), sum(precisions) / len(precisions), sum(f1_scores) / len(f1_scores)"
   ]
  },
  {
   "cell_type": "code",
   "execution_count": null,
   "metadata": {
    "ExecuteTime": {
     "start_time": "2021-06-16T08:21:32.466Z"
    }
   },
   "outputs": [],
   "source": [
    "grouped_classes = df.groupby('label_group')\n",
    "labels_for_matches = df['label_group']\n",
    "\n",
    "matches_dict = get_matches2(labels_for_matches, grouped_classes)"
   ]
  },
  {
   "cell_type": "code",
   "execution_count": null,
   "metadata": {
    "ExecuteTime": {
     "start_time": "2021-06-16T08:21:32.470Z"
    }
   },
   "outputs": [],
   "source": [
    "import copy\n",
    "total_imp_preds = copy.deepcopy(pred_dict_05)"
   ]
  },
  {
   "cell_type": "code",
   "execution_count": null,
   "metadata": {
    "ExecuteTime": {
     "start_time": "2021-06-16T08:21:32.473Z"
    }
   },
   "outputs": [],
   "source": [
    "from imagededup.methods import CNN\n",
    "\n",
    "cnn = CNN()\n",
    "encoded2 = cnn.encode_images(image_dir=\"/Users/royyanovski/Desktop/DS Project - Product matching/new_train_images\")\n",
    "duplicated_images4 = cnn.find_duplicates(encoding_map=encoded2, min_similarity_threshold=0.85, outfile='/Users/royyanovski/Desktop/DS Project - Product matching/im_results085.json')"
   ]
  },
  {
   "cell_type": "code",
   "execution_count": null,
   "metadata": {
    "ExecuteTime": {
     "start_time": "2021-06-16T08:21:32.477Z"
    }
   },
   "outputs": [],
   "source": [
    "import json\n",
    "with open('im_results085.json') as json_file:\n",
    "    cnn_results3 = json.load(json_file)"
   ]
  },
  {
   "cell_type": "code",
   "execution_count": null,
   "metadata": {
    "ExecuteTime": {
     "start_time": "2021-06-16T08:21:32.480Z"
    }
   },
   "outputs": [],
   "source": [
    "recall, precision, f1 = get_metrics(cnn_results3, matches_dict)\n",
    "print('The CNN scores:')\n",
    "print(f'Recall: {recall:.2f}, Precision: {precision:.2f}, F1-Score: {f1:.2f}')"
   ]
  },
  {
   "cell_type": "code",
   "execution_count": null,
   "metadata": {
    "ExecuteTime": {
     "start_time": "2021-06-16T08:21:32.484Z"
    }
   },
   "outputs": [],
   "source": [
    "recall, precision, f1 = get_metrics(pred_dict_05, matches_dict)\n",
    "print('The NLP scores:')\n",
    "print(f'Recall: {recall:.2f}, Precision: {precision:.2f}, F1-Score: {f1:.2f}')"
   ]
  },
  {
   "cell_type": "code",
   "execution_count": null,
   "metadata": {
    "ExecuteTime": {
     "start_time": "2021-06-16T08:21:32.488Z"
    }
   },
   "outputs": [],
   "source": [
    "for key in cnn_results3.keys():\n",
    "    total_imp_preds[key].extend(cnn_results3[key])\n",
    "    total_imp_preds[key] = list(set(total_imp_preds[key]))"
   ]
  },
  {
   "cell_type": "code",
   "execution_count": null,
   "metadata": {
    "ExecuteTime": {
     "start_time": "2021-06-16T08:21:32.492Z"
    }
   },
   "outputs": [],
   "source": [
    "import numpy as np\n",
    "recall, precision, f1 = get_metrics(total_imp_preds, matches_dict)\n",
    "print('The Ensembled (CNN + NLP) scores:')\n",
    "print(f'Recall: {recall:.2f}, Precision: {precision:.2f}, F1-Score: {f1:.2f}')"
   ]
  }
 ],
 "metadata": {
  "kernelspec": {
   "display_name": "Python 3",
   "language": "python",
   "name": "python3"
  },
  "language_info": {
   "codemirror_mode": {
    "name": "ipython",
    "version": 3
   },
   "file_extension": ".py",
   "mimetype": "text/x-python",
   "name": "python",
   "nbconvert_exporter": "python",
   "pygments_lexer": "ipython3",
   "version": "3.7.10"
  },
  "latex_envs": {
   "LaTeX_envs_menu_present": true,
   "autoclose": false,
   "autocomplete": true,
   "bibliofile": "biblio.bib",
   "cite_by": "apalike",
   "current_citInitial": 1,
   "eqLabelWithNumbers": true,
   "eqNumInitial": 1,
   "hotkeys": {
    "equation": "Ctrl-E",
    "itemize": "Ctrl-I"
   },
   "labels_anchors": false,
   "latex_user_defs": false,
   "report_style_numbering": false,
   "user_envs_cfg": false
  },
  "toc": {
   "base_numbering": 1,
   "nav_menu": {},
   "number_sections": true,
   "sideBar": true,
   "skip_h1_title": false,
   "title_cell": "Table of Contents",
   "title_sidebar": "Contents",
   "toc_cell": false,
   "toc_position": {},
   "toc_section_display": true,
   "toc_window_display": false
  }
 },
 "nbformat": 4,
 "nbformat_minor": 4
}
