{
 "cells": [
  {
   "cell_type": "code",
   "execution_count": 1,
   "id": "1d4d6c90",
   "metadata": {},
   "outputs": [],
   "source": [
    "import pandas as pd\n",
    "import numpy as np\n",
    "import matplotlib.pyplot as plt\n",
    "import seaborn as sns\n",
    "from tqdm.notebook import tqdm\n",
    "%matplotlib inline"
   ]
  },
  {
   "cell_type": "code",
   "execution_count": 2,
   "id": "ab98a1e4",
   "metadata": {},
   "outputs": [],
   "source": [
    "df = pd.read_csv('train.csv')"
   ]
  },
  {
   "cell_type": "code",
   "execution_count": 3,
   "id": "2dccee71",
   "metadata": {},
   "outputs": [
    {
     "data": {
      "text/html": [
       "<div>\n",
       "<style scoped>\n",
       "    .dataframe tbody tr th:only-of-type {\n",
       "        vertical-align: middle;\n",
       "    }\n",
       "\n",
       "    .dataframe tbody tr th {\n",
       "        vertical-align: top;\n",
       "    }\n",
       "\n",
       "    .dataframe thead th {\n",
       "        text-align: right;\n",
       "    }\n",
       "</style>\n",
       "<table border=\"1\" class=\"dataframe\">\n",
       "  <thead>\n",
       "    <tr style=\"text-align: right;\">\n",
       "      <th></th>\n",
       "      <th>posting_id</th>\n",
       "      <th>image</th>\n",
       "      <th>image_phash</th>\n",
       "      <th>title</th>\n",
       "      <th>label_group</th>\n",
       "    </tr>\n",
       "  </thead>\n",
       "  <tbody>\n",
       "    <tr>\n",
       "      <th>0</th>\n",
       "      <td>train_129225211</td>\n",
       "      <td>0000a68812bc7e98c42888dfb1c07da0.jpg</td>\n",
       "      <td>94974f937d4c2433</td>\n",
       "      <td>Paper Bag Victoria Secret</td>\n",
       "      <td>249114794</td>\n",
       "    </tr>\n",
       "    <tr>\n",
       "      <th>1</th>\n",
       "      <td>train_3386243561</td>\n",
       "      <td>00039780dfc94d01db8676fe789ecd05.jpg</td>\n",
       "      <td>af3f9460c2838f0f</td>\n",
       "      <td>Double Tape 3M VHB 12 mm x 4,5 m ORIGINAL / DO...</td>\n",
       "      <td>2937985045</td>\n",
       "    </tr>\n",
       "    <tr>\n",
       "      <th>2</th>\n",
       "      <td>train_2288590299</td>\n",
       "      <td>000a190fdd715a2a36faed16e2c65df7.jpg</td>\n",
       "      <td>b94cb00ed3e50f78</td>\n",
       "      <td>Maling TTS Canned Pork Luncheon Meat 397 gr</td>\n",
       "      <td>2395904891</td>\n",
       "    </tr>\n",
       "  </tbody>\n",
       "</table>\n",
       "</div>"
      ],
      "text/plain": [
       "         posting_id                                 image       image_phash  \\\n",
       "0   train_129225211  0000a68812bc7e98c42888dfb1c07da0.jpg  94974f937d4c2433   \n",
       "1  train_3386243561  00039780dfc94d01db8676fe789ecd05.jpg  af3f9460c2838f0f   \n",
       "2  train_2288590299  000a190fdd715a2a36faed16e2c65df7.jpg  b94cb00ed3e50f78   \n",
       "\n",
       "                                               title  label_group  \n",
       "0                          Paper Bag Victoria Secret    249114794  \n",
       "1  Double Tape 3M VHB 12 mm x 4,5 m ORIGINAL / DO...   2937985045  \n",
       "2        Maling TTS Canned Pork Luncheon Meat 397 gr   2395904891  "
      ]
     },
     "execution_count": 3,
     "metadata": {},
     "output_type": "execute_result"
    }
   ],
   "source": [
    "df.head(3)"
   ]
  },
  {
   "cell_type": "code",
   "execution_count": 4,
   "id": "33ba474e",
   "metadata": {},
   "outputs": [
    {
     "name": "stdout",
     "output_type": "stream",
     "text": [
      "<class 'pandas.core.frame.DataFrame'>\n",
      "RangeIndex: 34250 entries, 0 to 34249\n",
      "Data columns (total 5 columns):\n",
      " #   Column       Non-Null Count  Dtype \n",
      "---  ------       --------------  ----- \n",
      " 0   posting_id   34250 non-null  object\n",
      " 1   image        34250 non-null  object\n",
      " 2   image_phash  34250 non-null  object\n",
      " 3   title        34250 non-null  object\n",
      " 4   label_group  34250 non-null  int64 \n",
      "dtypes: int64(1), object(4)\n",
      "memory usage: 1.3+ MB\n"
     ]
    }
   ],
   "source": [
    "df.info()"
   ]
  },
  {
   "cell_type": "code",
   "execution_count": 5,
   "id": "f257e863",
   "metadata": {},
   "outputs": [
    {
     "data": {
      "text/plain": [
       "0"
      ]
     },
     "execution_count": 5,
     "metadata": {},
     "output_type": "execute_result"
    }
   ],
   "source": [
    "df.duplicated().sum()"
   ]
  },
  {
   "cell_type": "code",
   "execution_count": 6,
   "id": "2ba67ae7",
   "metadata": {},
   "outputs": [
    {
     "data": {
      "text/plain": [
       "posting_id     34250\n",
       "image          32412\n",
       "image_phash    28735\n",
       "title          33117\n",
       "label_group    11014\n",
       "dtype: int64"
      ]
     },
     "execution_count": 6,
     "metadata": {},
     "output_type": "execute_result"
    }
   ],
   "source": [
    "df.nunique()"
   ]
  },
  {
   "cell_type": "code",
   "execution_count": 7,
   "id": "905de0d9",
   "metadata": {},
   "outputs": [
    {
     "data": {
      "image/png": "[encoded data removed]",
      "text/plain": [
       "<Figure size 432x288 with 1 Axes>"
      ]
     },
     "metadata": {
      "needs_background": "light"
     },
     "output_type": "display_data"
    }
   ],
   "source": [
    "df.label_group.value_counts().plot.hist(bins=50)\n",
    "plt.xticks(range(0,50,5));"
   ]
  },
  {
   "cell_type": "markdown",
   "id": "236f4bea",
   "metadata": {},
   "source": [
    "#### Train Test Split"
   ]
  },
  {
   "cell_type": "code",
   "execution_count": 8,
   "id": "bf6056ef",
   "metadata": {},
   "outputs": [],
   "source": [
    "# Train Test Split\n",
    "\n",
    "from sklearn.utils import shuffle\n",
    "\n",
    "def split_data_by_group(df, features, target, id_to_split, train_size):\n",
    "    \"\"\" returns train and test set divided by group \n",
    "    \"\"\"\n",
    "    \n",
    "    df = shuffle(df)\n",
    "    cum_sum = pd.DataFrame(df[id_to_split].value_counts().cumsum()/\\\n",
    "                           len(df))\n",
    "\n",
    "    train_indexes = cum_sum[cum_sum[id_to_split] <= train_size].index.values\n",
    "    test_indexes = cum_sum[cum_sum[id_to_split] > train_size].index.values\n",
    "\n",
    "    X_train = df.loc[df[id_to_split].isin(train_indexes), features]\n",
    "    X_test = df.loc[df[id_to_split].isin(test_indexes), features]\n",
    "\n",
    "    y_train = df.loc[df[id_to_split].isin(train_indexes), target]\n",
    "    y_test = df.loc[df[id_to_split].isin(test_indexes), target]\n",
    "    \n",
    "    return X_train, X_test, y_train, y_test"
   ]
  },
  {
   "cell_type": "code",
   "execution_count": 9,
   "id": "6c5de2eb",
   "metadata": {},
   "outputs": [],
   "source": [
    "# train test split\n",
    "\n",
    "id_to_split = 'label_group'\n",
    "train_val_size = 0.8\n",
    "train_size = 0.96\n",
    "features = ['title', 'label_group']\n",
    "id_to_split = 'label_group'\n",
    "target = 'label_group'\n",
    "\n",
    "# train-test split\n",
    "X_train, X_test, y_train, y_test = split_data_by_group(df, features, target, id_to_split, train_val_size)\n",
    "\n",
    "# train-validation split\n",
    "X_train, X_val, y_train, y_val = split_data_by_group(X_train, features, target, id_to_split, train_size)\n"
   ]
  },
  {
   "cell_type": "code",
   "execution_count": 10,
   "id": "8f483d6e",
   "metadata": {},
   "outputs": [],
   "source": [
    "features = ['title']"
   ]
  },
  {
   "cell_type": "code",
   "execution_count": 11,
   "id": "86b47738",
   "metadata": {},
   "outputs": [],
   "source": [
    "# X_train = X_train['title']\n",
    "# X_val = X_val['title']\n",
    "# X_test = X_test['title']"
   ]
  },
  {
   "cell_type": "code",
   "execution_count": 12,
   "id": "f5b96c91",
   "metadata": {},
   "outputs": [
    {
     "data": {
      "text/plain": [
       "((26304, 2), (1096, 2), (26304,), (1096,), (6850, 2), (6850,))"
      ]
     },
     "execution_count": 12,
     "metadata": {},
     "output_type": "execute_result"
    }
   ],
   "source": [
    "X_train.shape, X_val.shape, y_train.shape, y_val.shape,  X_test.shape, y_test.shape"
   ]
  },
  {
   "cell_type": "markdown",
   "id": "ed3f6fae",
   "metadata": {},
   "source": [
    "#### Preprocessing"
   ]
  },
  {
   "cell_type": "code",
   "execution_count": 13,
   "id": "8f03ef84",
   "metadata": {},
   "outputs": [],
   "source": [
    "# lowering and removing punctuations\n",
    "import string\n",
    "\n",
    "X_train['title'] = X_train['title'].replace(string.punctuation, '').str.lower()\n",
    "X_val['title'] = X_val['title'].replace(string.punctuation, '').str.lower()\n",
    "X_test['title'] = X_test['title'].replace(string.punctuation, '').str.lower()"
   ]
  },
  {
   "cell_type": "markdown",
   "id": "2b6147a4",
   "metadata": {},
   "source": [
    "#### Similarity"
   ]
  },
  {
   "cell_type": "code",
   "execution_count": 14,
   "id": "8c51e260",
   "metadata": {},
   "outputs": [],
   "source": [
    "from difflib import SequenceMatcher"
   ]
  },
  {
   "cell_type": "code",
   "execution_count": 15,
   "id": "165dfce2",
   "metadata": {},
   "outputs": [],
   "source": [
    "def similar(s1, s2):\n",
    "    return SequenceMatcher(None, s1, s2).ratio()"
   ]
  },
  {
   "cell_type": "code",
   "execution_count": 16,
   "id": "e37a1662",
   "metadata": {},
   "outputs": [
    {
     "data": {
      "application/vnd.jupyter.widget-view+json": {
       "model_id": "60e3bb075ec84274aad2d6904d6d10ca",
       "version_major": 2,
       "version_minor": 0
      },
      "text/plain": [
       "  0%|          | 0/7041 [00:00<?, ?it/s]"
      ]
     },
     "metadata": {},
     "output_type": "display_data"
    }
   ],
   "source": [
    "same_similarity = []\n",
    "\n",
    "gby_label = X_train.groupby('label_group')\n",
    "\n",
    "for g in tqdm(gby_label):\n",
    "    group_df = g[1]\n",
    "    for i in range(len(group_df) - 1):\n",
    "        for j in range(i + 1, len(group_df)):\n",
    "            sim = similar(group_df.iloc[i, 0], group_df.iloc[j, 0])\n",
    "            same_similarity.append(sim)\n",
    "            \n",
    "same_similarity = pd.Series(same_similarity)"
   ]
  },
  {
   "cell_type": "code",
   "execution_count": 17,
   "id": "86c6bbbd",
   "metadata": {},
   "outputs": [
    {
     "data": {
      "application/vnd.jupyter.widget-view+json": {
       "model_id": "6d8408858f024cf2b7c4f26b4ca4cce0",
       "version_major": 2,
       "version_minor": 0
      },
      "text/plain": [
       "  0%|          | 0/26304 [00:00<?, ?it/s]"
      ]
     },
     "metadata": {},
     "output_type": "display_data"
    }
   ],
   "source": [
    "diff_similarity = []\n",
    "\n",
    "for i in tqdm(range(len(X_train))):\n",
    "    j = np.random.randint(0, len(X_train))\n",
    "    if y_train.iloc[i] != y_train.iloc[j]:\n",
    "        sim = similar(X_train.iloc[i, 0], X_train.iloc[j, 0])\n",
    "        diff_similarity.append(sim)\n",
    "\n",
    "diff_similarity = pd.Series(diff_similarity)"
   ]
  },
  {
   "cell_type": "code",
   "execution_count": 18,
   "id": "aaf0ff27",
   "metadata": {},
   "outputs": [
    {
     "data": {
      "image/png": "[encoded data removed]",
      "text/plain": [
       "<Figure size 432x288 with 1 Axes>"
      ]
     },
     "metadata": {
      "needs_background": "light"
     },
     "output_type": "display_data"
    }
   ],
   "source": [
    "plt.hist(diff_similarity, density=True, bins = 50, color = 'r', alpha=0.7, label='different product')\n",
    "plt.hist(same_similarity, density=True, bins = 50, color ='g', alpha=0.7, label='same product')\n",
    "\n",
    "plt.legend()\n",
    "plt.title('similarity')\n",
    "plt.xticks(np.linspace(0,1,11));"
   ]
  },
  {
   "cell_type": "markdown",
   "id": "93e2e2e9",
   "metadata": {},
   "source": [
    "#### Same product similarity stats"
   ]
  },
  {
   "cell_type": "code",
   "execution_count": 19,
   "id": "a4af5913",
   "metadata": {
    "scrolled": false
   },
   "outputs": [
    {
     "data": {
      "text/plain": [
       "count    79778.00\n",
       "mean         0.54\n",
       "std          0.20\n",
       "min          0.01\n",
       "25%          0.39\n",
       "50%          0.51\n",
       "75%          0.67\n",
       "max          1.00\n",
       "dtype: float64"
      ]
     },
     "execution_count": 19,
     "metadata": {},
     "output_type": "execute_result"
    }
   ],
   "source": [
    "same_similarity.describe().round(2)"
   ]
  },
  {
   "cell_type": "markdown",
   "id": "d9f3be8b",
   "metadata": {},
   "source": [
    "#### Different product similarity stats"
   ]
  },
  {
   "cell_type": "code",
   "execution_count": 20,
   "id": "abe8a9bb",
   "metadata": {
    "scrolled": true
   },
   "outputs": [
    {
     "data": {
      "text/plain": [
       "count    26299.00\n",
       "mean         0.22\n",
       "std          0.07\n",
       "min          0.00\n",
       "25%          0.17\n",
       "50%          0.22\n",
       "75%          0.27\n",
       "max          0.69\n",
       "dtype: float64"
      ]
     },
     "execution_count": 20,
     "metadata": {},
     "output_type": "execute_result"
    }
   ],
   "source": [
    "diff_similarity.describe().round(2)"
   ]
  },
  {
   "cell_type": "markdown",
   "id": "e506ab25",
   "metadata": {},
   "source": [
    "#### Choosing threshold:\n",
    "- The data is very imblanced the proportion of same product to not same product is ~ 1 to 20k.\n",
    "- We will choose a threshold that takes into consideration the prior probabilities.\n",
    "- **calculate maximum likelihood**"
   ]
  },
  {
   "cell_type": "code",
   "execution_count": 21,
   "id": "f1cbb6e2",
   "metadata": {
    "scrolled": true
   },
   "outputs": [
    {
     "data": {
      "text/plain": [
       "0.6086956521739131"
      ]
     },
     "execution_count": 21,
     "metadata": {},
     "output_type": "execute_result"
    }
   ],
   "source": [
    "diff_similarity.quantile(0.9999)"
   ]
  },
  {
   "cell_type": "markdown",
   "id": "ef4147ff",
   "metadata": {},
   "source": [
    "#### Preparing True Matches (y_true)"
   ]
  },
  {
   "cell_type": "code",
   "execution_count": 22,
   "id": "dd4fbd98",
   "metadata": {},
   "outputs": [],
   "source": [
    "# preparing true matches\n",
    "\n",
    "def get_matches(y, grouped_data):\n",
    "    \"\"\" returns list of all matches by item\n",
    "    \"\"\"\n",
    "    \n",
    "    matches = []\n",
    "    for i in tqdm(range(len(y))):\n",
    "        g = y.iloc[i]\n",
    "        labels = list(grouped_data.get_group(g).index)\n",
    "        matches.append(labels)\n",
    "    \n",
    "    return matches"
   ]
  },
  {
   "cell_type": "code",
   "execution_count": 23,
   "id": "6815b50e",
   "metadata": {},
   "outputs": [
    {
     "data": {
      "application/vnd.jupyter.widget-view+json": {
       "model_id": "1dcedeb554994410a35ceaa83e5a7b37",
       "version_major": 2,
       "version_minor": 0
      },
      "text/plain": [
       "  0%|          | 0/26304 [00:00<?, ?it/s]"
      ]
     },
     "metadata": {},
     "output_type": "display_data"
    },
    {
     "data": {
      "application/vnd.jupyter.widget-view+json": {
       "model_id": "3c750f673b9849b799a8575528603634",
       "version_major": 2,
       "version_minor": 0
      },
      "text/plain": [
       "  0%|          | 0/1096 [00:00<?, ?it/s]"
      ]
     },
     "metadata": {},
     "output_type": "display_data"
    },
    {
     "data": {
      "application/vnd.jupyter.widget-view+json": {
       "model_id": "a89347ba046a4a1d88bf51bcdac7bc7c",
       "version_major": 2,
       "version_minor": 0
      },
      "text/plain": [
       "  0%|          | 0/6850 [00:00<?, ?it/s]"
      ]
     },
     "metadata": {},
     "output_type": "display_data"
    }
   ],
   "source": [
    "grouped_train = X_train.groupby('label_group')\n",
    "grouped_val = X_val.groupby('label_group')\n",
    "grouped_test = X_test.groupby('label_group')\n",
    "\n",
    "matches_train = get_matches(y_train, grouped_train)\n",
    "matches_val = get_matches(y_val, grouped_val)\n",
    "matches_test = get_matches(y_test, grouped_test)"
   ]
  },
  {
   "cell_type": "markdown",
   "id": "4b640806",
   "metadata": {},
   "source": [
    "#### Predicting on validation"
   ]
  },
  {
   "cell_type": "code",
   "execution_count": 24,
   "id": "d8d0ae93",
   "metadata": {},
   "outputs": [],
   "source": [
    "def get_predictions(X, thresh):\n",
    "    \"\"\"returns predictions for given data and threshold\n",
    "    \"\"\"\n",
    "    \n",
    "    idx = X.index\n",
    "    \n",
    "    pred = [[idx[i]] for i in range(len(X))]\n",
    "\n",
    "\n",
    "    for i in tqdm(range(len(X))):\n",
    "    \n",
    "        for j in range(i + 1, len(X)):\n",
    "            \n",
    "            sim = similar(X.iloc[i,0], X.iloc[j,0])\n",
    "            \n",
    "            if sim >= thresh:\n",
    "                pred[i].append(idx[j])\n",
    "                pred[j].append(idx[i])\n",
    "    \n",
    "    return pred"
   ]
  },
  {
   "cell_type": "code",
   "execution_count": 25,
   "id": "f800e729",
   "metadata": {},
   "outputs": [
    {
     "data": {
      "application/vnd.jupyter.widget-view+json": {
       "model_id": "c26ec7f889eb4220ab961e5e8cfd08df",
       "version_major": 2,
       "version_minor": 0
      },
      "text/plain": [
       "  0%|          | 0/1096 [00:00<?, ?it/s]"
      ]
     },
     "metadata": {},
     "output_type": "display_data"
    }
   ],
   "source": [
    "thresholds = [0.5]\n",
    "preds = []\n",
    "\n",
    "for thresh in thresholds:\n",
    "    pred = get_predictions(X_val, thresh)\n",
    "    preds.append(pred)"
   ]
  },
  {
   "cell_type": "code",
   "execution_count": 26,
   "id": "78687041",
   "metadata": {},
   "outputs": [],
   "source": [
    "def get_f1_score(pred, y_true):\n",
    "    \"\"\"returns mean F1 score. The mean is calculated in a sample-wise fashion, \n",
    "        meaning that an F1 score is calculated for every predicted row, then averaged.\n",
    "    \"\"\"\n",
    "    \n",
    "    f1_scores = []\n",
    "    \n",
    "    for i in range(len(pred)):\n",
    "        \n",
    "        p = pred[i]\n",
    "        p_true = y_true[i]\n",
    "        \n",
    "        tp = len(set(p) & set(p_true)) - 1\n",
    "        fp = len(np.setdiff1d(p, p_true))\n",
    "        fn = len(np.setdiff1d(p_true, p))\n",
    "        \n",
    "        f1 = tp / (tp + 0.5*(fp + fn))\n",
    "        \n",
    "        f1_scores.append(f1)\n",
    "\n",
    "    return sum(f1_scores) / len(f1_scores) , f1_scores\n",
    "    "
   ]
  },
  {
   "cell_type": "code",
   "execution_count": 27,
   "id": "6cdf3c6e",
   "metadata": {},
   "outputs": [
    {
     "name": "stdout",
     "output_type": "stream",
     "text": [
      "0.5888425443169968\n"
     ]
    }
   ],
   "source": [
    "for pred in preds:\n",
    "    mean_f1 , f1_scores = get_f1_score(pred, matches_val)\n",
    "    print(mean_f1)"
   ]
  },
  {
   "cell_type": "code",
   "execution_count": 29,
   "id": "077ab85a",
   "metadata": {},
   "outputs": [],
   "source": [
    "# vectorizing\n",
    "\n",
    "# from collections import Counter\n",
    "# from sklearn.feature_extraction.text import CountVectorizer\n",
    "\n",
    "# vectorizer = CountVectorizer(max_features=None, stop_words='english')\n",
    "# X = vectorizer.fit_transform(X).toarray()\n",
    "\n",
    "# same_label = []\n",
    "# diff_label = []\n",
    "\n",
    "# filt = X_train > 0\n",
    "# labels = y_train.reset_index()['label_group']\n",
    "\n",
    "# num_of_words = filt.sum(axis=1)\n",
    "\n",
    "# for i in range(len(X_train) - 1):\n",
    "#     for j in range(i + 1, len(X_train)):\n",
    "        \n",
    "#         c = (filt[i] & filt[j]).sum()\n",
    "        \n",
    "#         similarity = max(c / num_of_words[i], c / num_of_words[i])\n",
    "        \n",
    "#         if labels[i] == labels[j]:\n",
    "#             same_label.append(similarity)\n",
    "#         else:\n",
    "#             diff_label.append(similarity)\n",
    "    "
   ]
  },
  {
   "cell_type": "code",
   "execution_count": 45,
   "id": "laughing-following",
   "metadata": {
    "ExecuteTime": {
     "end_time": "2021-05-04T08:27:26.223907Z",
     "start_time": "2021-05-04T08:27:26.018858Z"
    }
   },
   "outputs": [],
   "source": [
    "all_words = []\n",
    "for title in df['title']:\n",
    "    title_words = title.lower().split(' ')\n",
    "    for each_word in title_words:\n",
    "        all_words.append(each_word)"
   ]
  },
  {
   "cell_type": "code",
   "execution_count": 46,
   "id": "portable-tradition",
   "metadata": {
    "ExecuteTime": {
     "end_time": "2021-05-04T09:14:24.928210Z",
     "start_time": "2021-05-04T08:27:32.466032Z"
    }
   },
   "outputs": [],
   "source": [
    "word_counts = []\n",
    "for word in all_words:\n",
    "    word_counts.append((word, all_words.count(word)))"
   ]
  },
  {
   "cell_type": "code",
   "execution_count": 47,
   "id": "thirty-slope",
   "metadata": {
    "ExecuteTime": {
     "end_time": "2021-05-04T09:19:27.729781Z",
     "start_time": "2021-05-04T09:19:27.483249Z"
    }
   },
   "outputs": [],
   "source": [
    "word_counts = list(set(word_counts))"
   ]
  },
  {
   "cell_type": "code",
   "execution_count": 48,
   "id": "champion-letter",
   "metadata": {
    "ExecuteTime": {
     "end_time": "2021-05-04T09:19:29.255760Z",
     "start_time": "2021-05-04T09:19:29.243582Z"
    }
   },
   "outputs": [
    {
     "data": {
      "text/plain": [
       "33899"
      ]
     },
     "execution_count": 48,
     "metadata": {},
     "output_type": "execute_result"
    }
   ],
   "source": [
    "len(word_counts)"
   ]
  },
  {
   "cell_type": "code",
   "execution_count": 49,
   "id": "adjacent-extraction",
   "metadata": {
    "ExecuteTime": {
     "end_time": "2021-05-04T09:19:30.892942Z",
     "start_time": "2021-05-04T09:19:30.864652Z"
    }
   },
   "outputs": [],
   "source": [
    "word_counts.sort(key = lambda x: x[1], reverse=True)"
   ]
  },
  {
   "cell_type": "code",
   "execution_count": 50,
   "id": "boxed-alias",
   "metadata": {
    "ExecuteTime": {
     "end_time": "2021-05-04T09:19:33.192111Z",
     "start_time": "2021-05-04T09:19:33.168952Z"
    }
   },
   "outputs": [],
   "source": [
    "common_words = [word[0] for word in word_counts[:500]]"
   ]
  },
  {
   "cell_type": "code",
   "execution_count": 51,
   "id": "assisted-waters",
   "metadata": {
    "ExecuteTime": {
     "end_time": "2021-05-04T09:19:34.943395Z",
     "start_time": "2021-05-04T09:19:34.823162Z"
    }
   },
   "outputs": [],
   "source": [
    "df2 = pd.DataFrame(columns=common_words)"
   ]
  },
  {
   "cell_type": "code",
   "execution_count": 52,
   "id": "dress-corruption",
   "metadata": {
    "ExecuteTime": {
     "end_time": "2021-05-04T09:19:37.997989Z",
     "start_time": "2021-05-04T09:19:36.592498Z"
    }
   },
   "outputs": [],
   "source": [
    "df3 = pd.concat([df,df2], axis=1)"
   ]
  },
  {
   "cell_type": "code",
   "execution_count": 65,
   "id": "biblical-parks",
   "metadata": {
    "ExecuteTime": {
     "end_time": "2021-05-04T10:09:16.111554Z",
     "start_time": "2021-05-04T09:32:57.111120Z"
    }
   },
   "outputs": [],
   "source": [
    "for word in common_words:\n",
    "    for i, title in enumerate(df['title'][:5000]):\n",
    "        if word in title:\n",
    "            df3.loc[i, word] = 1\n",
    "        else:\n",
    "            df3.loc[i, word] = 0"
   ]
  },
  {
   "cell_type": "code",
   "execution_count": 66,
   "id": "optical-mathematics",
   "metadata": {
    "ExecuteTime": {
     "end_time": "2021-05-04T10:11:43.354330Z",
     "start_time": "2021-05-04T10:11:43.335385Z"
    }
   },
   "outputs": [],
   "source": [
    "df4 = df3[:5000]"
   ]
  },
  {
   "cell_type": "code",
   "execution_count": 67,
   "id": "regular-arthur",
   "metadata": {
    "ExecuteTime": {
     "end_time": "2021-05-04T10:11:47.822154Z",
     "start_time": "2021-05-04T10:11:47.706034Z"
    }
   },
   "outputs": [],
   "source": [
    "df5 = df4.drop(['posting_id', 'image', 'image_phash', 'title'], axis=1)"
   ]
  },
  {
   "cell_type": "code",
   "execution_count": 68,
   "id": "grand-parameter",
   "metadata": {
    "ExecuteTime": {
     "end_time": "2021-05-04T10:11:49.538947Z",
     "start_time": "2021-05-04T10:11:49.494600Z"
    }
   },
   "outputs": [
    {
     "data": {
      "text/html": [
       "<div>\n",
       "<style scoped>\n",
       "    .dataframe tbody tr th:only-of-type {\n",
       "        vertical-align: middle;\n",
       "    }\n",
       "\n",
       "    .dataframe tbody tr th {\n",
       "        vertical-align: top;\n",
       "    }\n",
       "\n",
       "    .dataframe thead th {\n",
       "        text-align: right;\n",
       "    }\n",
       "</style>\n",
       "<table border=\"1\" class=\"dataframe\">\n",
       "  <thead>\n",
       "    <tr style=\"text-align: right;\">\n",
       "      <th></th>\n",
       "      <th>label_group</th>\n",
       "      <th>/</th>\n",
       "      <th>-</th>\n",
       "      <th>anak</th>\n",
       "      <th>wanita</th>\n",
       "      <th></th>\n",
       "      <th>original</th>\n",
       "      <th>1</th>\n",
       "      <th>murah</th>\n",
       "      <th>tas</th>\n",
       "      <th>...</th>\n",
       "      <th>batam</th>\n",
       "      <th>teh</th>\n",
       "      <th>tv</th>\n",
       "      <th>tutup</th>\n",
       "      <th>you</th>\n",
       "      <th>big</th>\n",
       "      <th>halus</th>\n",
       "      <th>kuning</th>\n",
       "      <th>instant</th>\n",
       "      <th>hias</th>\n",
       "    </tr>\n",
       "  </thead>\n",
       "  <tbody>\n",
       "    <tr>\n",
       "      <th>0</th>\n",
       "      <td>249114794</td>\n",
       "      <td>0</td>\n",
       "      <td>0</td>\n",
       "      <td>0</td>\n",
       "      <td>0</td>\n",
       "      <td>1</td>\n",
       "      <td>0</td>\n",
       "      <td>0</td>\n",
       "      <td>0</td>\n",
       "      <td>0</td>\n",
       "      <td>...</td>\n",
       "      <td>0</td>\n",
       "      <td>0</td>\n",
       "      <td>0</td>\n",
       "      <td>0</td>\n",
       "      <td>0</td>\n",
       "      <td>0</td>\n",
       "      <td>0</td>\n",
       "      <td>0</td>\n",
       "      <td>0</td>\n",
       "      <td>0</td>\n",
       "    </tr>\n",
       "    <tr>\n",
       "      <th>1</th>\n",
       "      <td>2937985045</td>\n",
       "      <td>1</td>\n",
       "      <td>0</td>\n",
       "      <td>0</td>\n",
       "      <td>0</td>\n",
       "      <td>1</td>\n",
       "      <td>0</td>\n",
       "      <td>1</td>\n",
       "      <td>0</td>\n",
       "      <td>0</td>\n",
       "      <td>...</td>\n",
       "      <td>0</td>\n",
       "      <td>0</td>\n",
       "      <td>0</td>\n",
       "      <td>0</td>\n",
       "      <td>0</td>\n",
       "      <td>0</td>\n",
       "      <td>0</td>\n",
       "      <td>0</td>\n",
       "      <td>0</td>\n",
       "      <td>0</td>\n",
       "    </tr>\n",
       "    <tr>\n",
       "      <th>2</th>\n",
       "      <td>2395904891</td>\n",
       "      <td>0</td>\n",
       "      <td>0</td>\n",
       "      <td>0</td>\n",
       "      <td>0</td>\n",
       "      <td>1</td>\n",
       "      <td>0</td>\n",
       "      <td>0</td>\n",
       "      <td>0</td>\n",
       "      <td>0</td>\n",
       "      <td>...</td>\n",
       "      <td>0</td>\n",
       "      <td>0</td>\n",
       "      <td>0</td>\n",
       "      <td>0</td>\n",
       "      <td>0</td>\n",
       "      <td>0</td>\n",
       "      <td>0</td>\n",
       "      <td>0</td>\n",
       "      <td>0</td>\n",
       "      <td>0</td>\n",
       "    </tr>\n",
       "    <tr>\n",
       "      <th>3</th>\n",
       "      <td>4093212188</td>\n",
       "      <td>1</td>\n",
       "      <td>1</td>\n",
       "      <td>0</td>\n",
       "      <td>0</td>\n",
       "      <td>1</td>\n",
       "      <td>0</td>\n",
       "      <td>1</td>\n",
       "      <td>0</td>\n",
       "      <td>0</td>\n",
       "      <td>...</td>\n",
       "      <td>0</td>\n",
       "      <td>0</td>\n",
       "      <td>0</td>\n",
       "      <td>0</td>\n",
       "      <td>0</td>\n",
       "      <td>0</td>\n",
       "      <td>0</td>\n",
       "      <td>0</td>\n",
       "      <td>0</td>\n",
       "      <td>0</td>\n",
       "    </tr>\n",
       "    <tr>\n",
       "      <th>4</th>\n",
       "      <td>3648931069</td>\n",
       "      <td>0</td>\n",
       "      <td>0</td>\n",
       "      <td>0</td>\n",
       "      <td>0</td>\n",
       "      <td>1</td>\n",
       "      <td>0</td>\n",
       "      <td>0</td>\n",
       "      <td>0</td>\n",
       "      <td>0</td>\n",
       "      <td>...</td>\n",
       "      <td>0</td>\n",
       "      <td>0</td>\n",
       "      <td>0</td>\n",
       "      <td>0</td>\n",
       "      <td>0</td>\n",
       "      <td>0</td>\n",
       "      <td>0</td>\n",
       "      <td>0</td>\n",
       "      <td>0</td>\n",
       "      <td>0</td>\n",
       "    </tr>\n",
       "  </tbody>\n",
       "</table>\n",
       "<p>5 rows × 501 columns</p>\n",
       "</div>"
      ],
      "text/plain": [
       "   label_group  /  - anak wanita    original  1 murah tas  ... batam teh tv  \\\n",
       "0    249114794  0  0    0      0  1        0  0     0   0  ...     0   0  0   \n",
       "1   2937985045  1  0    0      0  1        0  1     0   0  ...     0   0  0   \n",
       "2   2395904891  0  0    0      0  1        0  0     0   0  ...     0   0  0   \n",
       "3   4093212188  1  1    0      0  1        0  1     0   0  ...     0   0  0   \n",
       "4   3648931069  0  0    0      0  1        0  0     0   0  ...     0   0  0   \n",
       "\n",
       "  tutup you big halus kuning instant hias  \n",
       "0     0   0   0     0      0       0    0  \n",
       "1     0   0   0     0      0       0    0  \n",
       "2     0   0   0     0      0       0    0  \n",
       "3     0   0   0     0      0       0    0  \n",
       "4     0   0   0     0      0       0    0  \n",
       "\n",
       "[5 rows x 501 columns]"
      ]
     },
     "execution_count": 68,
     "metadata": {},
     "output_type": "execute_result"
    }
   ],
   "source": [
    "df5.head()"
   ]
  },
  {
   "cell_type": "code",
   "execution_count": 70,
   "id": "familiar-stretch",
   "metadata": {
    "ExecuteTime": {
     "end_time": "2021-05-04T10:11:55.972994Z",
     "start_time": "2021-05-04T10:11:55.951171Z"
    }
   },
   "outputs": [
    {
     "data": {
      "text/plain": [
       "2979"
      ]
     },
     "execution_count": 70,
     "metadata": {},
     "output_type": "execute_result"
    }
   ],
   "source": [
    "sum(y.value_counts()<2)"
   ]
  },
  {
   "cell_type": "code",
   "execution_count": 75,
   "id": "unable-federation",
   "metadata": {
    "ExecuteTime": {
     "end_time": "2021-05-04T10:15:33.790536Z",
     "start_time": "2021-05-04T10:15:33.560971Z"
    }
   },
   "outputs": [],
   "source": [
    "df6 = df5.groupby('label_group').filter(lambda x: len(x) > 1)"
   ]
  },
  {
   "cell_type": "code",
   "execution_count": 76,
   "id": "outdoor-difference",
   "metadata": {
    "ExecuteTime": {
     "end_time": "2021-05-04T10:15:49.579897Z",
     "start_time": "2021-05-04T10:15:49.549923Z"
    }
   },
   "outputs": [],
   "source": [
    "X = df6.drop(['label_group'], axis=1)\n",
    "y = df6['label_group']"
   ]
  },
  {
   "cell_type": "code",
   "execution_count": 79,
   "id": "collective-passage",
   "metadata": {
    "ExecuteTime": {
     "end_time": "2021-05-04T10:16:43.098910Z",
     "start_time": "2021-05-04T10:16:43.068437Z"
    }
   },
   "outputs": [],
   "source": [
    "from sklearn.model_selection import train_test_split\n",
    "\n",
    "X_train, X_test, y_train, y_test = train_test_split(X, y, test_size=0.20, random_state=12)"
   ]
  },
  {
   "cell_type": "code",
   "execution_count": 169,
   "id": "encouraging-chase",
   "metadata": {
    "ExecuteTime": {
     "end_time": "2021-05-04T18:42:55.148071Z",
     "start_time": "2021-05-04T18:42:50.015585Z"
    }
   },
   "outputs": [],
   "source": [
    "from sklearn.ensemble import RandomForestClassifier\n",
    "from sklearn.metrics import classification_report\n",
    "from sklearn.metrics import accuracy_score\n",
    "\n",
    "rf_clf = RandomForestClassifier(random_state=0, n_estimators=150, max_depth=50)\n",
    "rf_clf.fit(X_train, y_train)\n",
    "y_pred = rf_clf.predict(X_test)"
   ]
  },
  {
   "cell_type": "code",
   "execution_count": 170,
   "id": "applied-implement",
   "metadata": {
    "ExecuteTime": {
     "end_time": "2021-05-04T18:42:58.497065Z",
     "start_time": "2021-05-04T18:42:57.131301Z"
    },
    "scrolled": true
   },
   "outputs": [
    {
     "name": "stdout",
     "output_type": "stream",
     "text": [
      "Accuracy of Random Forest classifier on training set: 0.88\n",
      "\n",
      "Accuracy of Random Forest classifier on test set: 0.31\n"
     ]
    }
   ],
   "source": [
    "print('Accuracy of Random Forest classifier on training set: {:.2f}'\n",
    "     .format(rf_clf.score(X_train, y_train)))\n",
    "print()\n",
    "print(f'Accuracy of Random Forest classifier on test set: {accuracy_score(y_test, y_pred):.2f}')"
   ]
  },
  {
   "cell_type": "code",
   "execution_count": null,
   "id": "authentic-hartford",
   "metadata": {},
   "outputs": [],
   "source": []
  }
 ],
 "metadata": {
  "kernelspec": {
   "display_name": "Python 3",
   "language": "python",
   "name": "python3"
  },
  "language_info": {
   "codemirror_mode": {
    "name": "ipython",
    "version": 3
   },
   "file_extension": ".py",
   "mimetype": "text/x-python",
   "name": "python",
   "nbconvert_exporter": "python",
   "pygments_lexer": "ipython3",
   "version": "3.7.10"
  },
  "latex_envs": {
   "LaTeX_envs_menu_present": true,
   "autoclose": false,
   "autocomplete": true,
   "bibliofile": "biblio.bib",
   "cite_by": "apalike",
   "current_citInitial": 1,
   "eqLabelWithNumbers": true,
   "eqNumInitial": 1,
   "hotkeys": {
    "equation": "Ctrl-E",
    "itemize": "Ctrl-I"
   },
   "labels_anchors": false,
   "latex_user_defs": false,
   "report_style_numbering": false,
   "user_envs_cfg": false
  },
  "toc": {
   "base_numbering": 1,
   "nav_menu": {},
   "number_sections": true,
   "sideBar": true,
   "skip_h1_title": false,
   "title_cell": "Table of Contents",
   "title_sidebar": "Contents",
   "toc_cell": false,
   "toc_position": {},
   "toc_section_display": true,
   "toc_window_display": false
  }
 },
 "nbformat": 4,
 "nbformat_minor": 5
}
